{
 "cells": [
  {
   "cell_type": "markdown",
   "metadata": {},
   "source": [
    "# Predict Future Sales"
   ]
  },
  {
   "cell_type": "markdown",
   "metadata": {},
   "source": [
    "## Imports"
   ]
  },
  {
   "cell_type": "code",
   "execution_count": 46,
   "metadata": {},
   "outputs": [],
   "source": [
    "import pandas as pd\n",
    "pd.set_option('float_format', '{0:.2f}'.format)\n",
    "\n",
    "import numpy as np\n",
    "from matplotlib import pyplot as plt\n",
    "import seaborn as sns\n",
    "\n",
    "from sklearn.preprocessing import LabelEncoder\n",
    "from sklearn.preprocessing import StandardScaler\n",
    "\n",
    "from sklearn.metrics import mean_squared_error\n",
    "\n",
    "from sklearn.model_selection import cross_val_score\n",
    "from sklearn.model_selection import GridSearchCV\n",
    "\n",
    "from sklearn.ensemble import RandomForestRegressor\n",
    "import xgboost as xgb"
   ]
  },
  {
   "cell_type": "markdown",
   "metadata": {},
   "source": [
    "## Import data"
   ]
  },
  {
   "cell_type": "code",
   "execution_count": 2,
   "metadata": {},
   "outputs": [],
   "source": [
    "train = pd.read_csv(\"data/sales_train.csv\")\n",
    "items = pd.read_csv(\"data/items.csv\")\n",
    "categories = pd.read_csv(\"data/item_categories.csv\")\n",
    "shops = pd.read_csv(\"data/shops.csv\")\n",
    "test = pd.read_csv(\"data/test.csv\")"
   ]
  },
  {
   "cell_type": "code",
   "execution_count": 3,
   "metadata": {},
   "outputs": [],
   "source": [
    "df_train = train.copy()"
   ]
  },
  {
   "cell_type": "markdown",
   "metadata": {},
   "source": [
    "## Data Cleaning"
   ]
  },
  {
   "cell_type": "markdown",
   "metadata": {},
   "source": [
    "### Cleaning the training set"
   ]
  },
  {
   "cell_type": "code",
   "execution_count": 4,
   "metadata": {
    "scrolled": true
   },
   "outputs": [],
   "source": [
    "df_train.rename(columns={'item_cnt_day' : 'item_volume'}, inplace=True)"
   ]
  },
  {
   "cell_type": "code",
   "execution_count": 5,
   "metadata": {
    "scrolled": false
   },
   "outputs": [],
   "source": [
    "# Replace negative price\n",
    "df_train[\"item_price\"] = np.where(df_train.item_price < 0,\n",
    "                            df_train[(df_train.date_block_num==4) & (df_train.shop_id==32) & (df_train.item_id==2973)][\"item_price\"].median(),\n",
    "                            df_train.item_price)"
   ]
  },
  {
   "cell_type": "markdown",
   "metadata": {},
   "source": [
    "#### Remove outliers"
   ]
  },
  {
   "cell_type": "code",
   "execution_count": 6,
   "metadata": {
    "scrolled": false
   },
   "outputs": [
    {
     "data": {
      "image/png": "[encoded data removed]",
      "text/plain": [
       "<Figure size 1440x144 with 1 Axes>"
      ]
     },
     "metadata": {
      "needs_background": "light"
     },
     "output_type": "display_data"
    },
    {
     "data": {
      "image/png": "[encoded data removed]",
      "text/plain": [
       "<Figure size 1440x144 with 1 Axes>"
      ]
     },
     "metadata": {
      "needs_background": "light"
     },
     "output_type": "display_data"
    }
   ],
   "source": [
    "plt.figure(figsize=(20,2))\n",
    "sns.boxplot(df_train.item_price)\n",
    "plt.show()\n",
    "plt.figure(figsize=(20,2))\n",
    "sns.boxplot(df_train.item_volume)\n",
    "plt.show()"
   ]
  },
  {
   "cell_type": "code",
   "execution_count": 7,
   "metadata": {},
   "outputs": [],
   "source": [
    "# Remove outliers\n",
    "df_train = df_train[df_train.item_price < 100000]\n",
    "df_train = df_train[df_train.item_volume < 100]"
   ]
  },
  {
   "cell_type": "code",
   "execution_count": 8,
   "metadata": {
    "scrolled": true
   },
   "outputs": [
    {
     "data": {
      "image/png": "[encoded data removed]",
      "text/plain": [
       "<Figure size 1440x144 with 1 Axes>"
      ]
     },
     "metadata": {
      "needs_background": "light"
     },
     "output_type": "display_data"
    },
    {
     "data": {
      "image/png": "[encoded data removed]",
      "text/plain": [
       "<Figure size 1440x144 with 1 Axes>"
      ]
     },
     "metadata": {
      "needs_background": "light"
     },
     "output_type": "display_data"
    }
   ],
   "source": [
    "plt.figure(figsize=(20,2))\n",
    "sns.boxplot(df_train.item_price)\n",
    "plt.show()\n",
    "plt.figure(figsize=(20,2))\n",
    "sns.boxplot(df_train.item_volume)\n",
    "plt.show()"
   ]
  },
  {
   "cell_type": "markdown",
   "metadata": {},
   "source": [
    "### Group by Month, Shop & Item"
   ]
  },
  {
   "cell_type": "code",
   "execution_count": 9,
   "metadata": {},
   "outputs": [],
   "source": [
    "df_train[\"date\"] = pd.to_datetime(df_train[\"date\"], format='%d.%m.%Y')\n",
    "df_train[\"month\"] = df_train[\"date\"].dt.month\n",
    "df_train[\"year\"] = df_train[\"date\"].dt.year\n",
    "#df_train[\"month_year\"] = df_train[\"date\"].dt.strftime('%Y-%m')\n",
    "#df_train[\"month_year\"] = pd.to_datetime(df_train[\"month_year\"])"
   ]
  },
  {
   "cell_type": "code",
   "execution_count": 10,
   "metadata": {
    "scrolled": true
   },
   "outputs": [],
   "source": [
    "gp = df_train.groupby([\"date_block_num\", \"year\", \"month\", \"shop_id\", \"item_id\"]).agg({'item_volume' : 'sum', 'item_price' : 'mean'}).reset_index()"
   ]
  },
  {
   "cell_type": "code",
   "execution_count": 11,
   "metadata": {
    "scrolled": false
   },
   "outputs": [
    {
     "data": {
      "text/html": [
       "<div>\n",
       "<style scoped>\n",
       "    .dataframe tbody tr th:only-of-type {\n",
       "        vertical-align: middle;\n",
       "    }\n",
       "\n",
       "    .dataframe tbody tr th {\n",
       "        vertical-align: top;\n",
       "    }\n",
       "\n",
       "    .dataframe thead th {\n",
       "        text-align: right;\n",
       "    }\n",
       "</style>\n",
       "<table border=\"1\" class=\"dataframe\">\n",
       "  <thead>\n",
       "    <tr style=\"text-align: right;\">\n",
       "      <th></th>\n",
       "      <th>date_block_num</th>\n",
       "      <th>year</th>\n",
       "      <th>month</th>\n",
       "      <th>shop_id</th>\n",
       "      <th>item_id</th>\n",
       "      <th>item_volume</th>\n",
       "      <th>item_price</th>\n",
       "    </tr>\n",
       "  </thead>\n",
       "  <tbody>\n",
       "    <tr>\n",
       "      <th>0</th>\n",
       "      <td>0</td>\n",
       "      <td>2013</td>\n",
       "      <td>1</td>\n",
       "      <td>0</td>\n",
       "      <td>32</td>\n",
       "      <td>6.00</td>\n",
       "      <td>221.00</td>\n",
       "    </tr>\n",
       "    <tr>\n",
       "      <th>1</th>\n",
       "      <td>0</td>\n",
       "      <td>2013</td>\n",
       "      <td>1</td>\n",
       "      <td>0</td>\n",
       "      <td>33</td>\n",
       "      <td>3.00</td>\n",
       "      <td>347.00</td>\n",
       "    </tr>\n",
       "    <tr>\n",
       "      <th>2</th>\n",
       "      <td>0</td>\n",
       "      <td>2013</td>\n",
       "      <td>1</td>\n",
       "      <td>0</td>\n",
       "      <td>35</td>\n",
       "      <td>1.00</td>\n",
       "      <td>247.00</td>\n",
       "    </tr>\n",
       "    <tr>\n",
       "      <th>3</th>\n",
       "      <td>0</td>\n",
       "      <td>2013</td>\n",
       "      <td>1</td>\n",
       "      <td>0</td>\n",
       "      <td>43</td>\n",
       "      <td>1.00</td>\n",
       "      <td>221.00</td>\n",
       "    </tr>\n",
       "    <tr>\n",
       "      <th>4</th>\n",
       "      <td>0</td>\n",
       "      <td>2013</td>\n",
       "      <td>1</td>\n",
       "      <td>0</td>\n",
       "      <td>51</td>\n",
       "      <td>2.00</td>\n",
       "      <td>128.50</td>\n",
       "    </tr>\n",
       "    <tr>\n",
       "      <th>...</th>\n",
       "      <td>...</td>\n",
       "      <td>...</td>\n",
       "      <td>...</td>\n",
       "      <td>...</td>\n",
       "      <td>...</td>\n",
       "      <td>...</td>\n",
       "      <td>...</td>\n",
       "    </tr>\n",
       "    <tr>\n",
       "      <th>1609112</th>\n",
       "      <td>33</td>\n",
       "      <td>2015</td>\n",
       "      <td>10</td>\n",
       "      <td>59</td>\n",
       "      <td>22087</td>\n",
       "      <td>6.00</td>\n",
       "      <td>119.00</td>\n",
       "    </tr>\n",
       "    <tr>\n",
       "      <th>1609113</th>\n",
       "      <td>33</td>\n",
       "      <td>2015</td>\n",
       "      <td>10</td>\n",
       "      <td>59</td>\n",
       "      <td>22088</td>\n",
       "      <td>2.00</td>\n",
       "      <td>119.00</td>\n",
       "    </tr>\n",
       "    <tr>\n",
       "      <th>1609114</th>\n",
       "      <td>33</td>\n",
       "      <td>2015</td>\n",
       "      <td>10</td>\n",
       "      <td>59</td>\n",
       "      <td>22091</td>\n",
       "      <td>1.00</td>\n",
       "      <td>179.00</td>\n",
       "    </tr>\n",
       "    <tr>\n",
       "      <th>1609115</th>\n",
       "      <td>33</td>\n",
       "      <td>2015</td>\n",
       "      <td>10</td>\n",
       "      <td>59</td>\n",
       "      <td>22100</td>\n",
       "      <td>1.00</td>\n",
       "      <td>629.00</td>\n",
       "    </tr>\n",
       "    <tr>\n",
       "      <th>1609116</th>\n",
       "      <td>33</td>\n",
       "      <td>2015</td>\n",
       "      <td>10</td>\n",
       "      <td>59</td>\n",
       "      <td>22102</td>\n",
       "      <td>1.00</td>\n",
       "      <td>1250.00</td>\n",
       "    </tr>\n",
       "  </tbody>\n",
       "</table>\n",
       "<p>1609117 rows × 7 columns</p>\n",
       "</div>"
      ],
      "text/plain": [
       "         date_block_num  year  month  shop_id  item_id  item_volume  \\\n",
       "0                     0  2013      1        0       32         6.00   \n",
       "1                     0  2013      1        0       33         3.00   \n",
       "2                     0  2013      1        0       35         1.00   \n",
       "3                     0  2013      1        0       43         1.00   \n",
       "4                     0  2013      1        0       51         2.00   \n",
       "...                 ...   ...    ...      ...      ...          ...   \n",
       "1609112              33  2015     10       59    22087         6.00   \n",
       "1609113              33  2015     10       59    22088         2.00   \n",
       "1609114              33  2015     10       59    22091         1.00   \n",
       "1609115              33  2015     10       59    22100         1.00   \n",
       "1609116              33  2015     10       59    22102         1.00   \n",
       "\n",
       "         item_price  \n",
       "0            221.00  \n",
       "1            347.00  \n",
       "2            247.00  \n",
       "3            221.00  \n",
       "4            128.50  \n",
       "...             ...  \n",
       "1609112      119.00  \n",
       "1609113      119.00  \n",
       "1609114      179.00  \n",
       "1609115      629.00  \n",
       "1609116     1250.00  \n",
       "\n",
       "[1609117 rows x 7 columns]"
      ]
     },
     "execution_count": 11,
     "metadata": {},
     "output_type": "execute_result"
    }
   ],
   "source": [
    "gp"
   ]
  },
  {
   "cell_type": "code",
   "execution_count": 12,
   "metadata": {},
   "outputs": [
    {
     "data": {
      "text/html": [
       "<div>\n",
       "<style scoped>\n",
       "    .dataframe tbody tr th:only-of-type {\n",
       "        vertical-align: middle;\n",
       "    }\n",
       "\n",
       "    .dataframe tbody tr th {\n",
       "        vertical-align: top;\n",
       "    }\n",
       "\n",
       "    .dataframe thead th {\n",
       "        text-align: right;\n",
       "    }\n",
       "</style>\n",
       "<table border=\"1\" class=\"dataframe\">\n",
       "  <thead>\n",
       "    <tr style=\"text-align: right;\">\n",
       "      <th></th>\n",
       "      <th>date</th>\n",
       "      <th>date_block_num</th>\n",
       "      <th>shop_id</th>\n",
       "      <th>item_id</th>\n",
       "      <th>item_price</th>\n",
       "      <th>item_volume</th>\n",
       "      <th>month</th>\n",
       "      <th>year</th>\n",
       "    </tr>\n",
       "  </thead>\n",
       "  <tbody>\n",
       "    <tr>\n",
       "      <th>32745</th>\n",
       "      <td>2013-01-02</td>\n",
       "      <td>0</td>\n",
       "      <td>2</td>\n",
       "      <td>5643</td>\n",
       "      <td>2385.21</td>\n",
       "      <td>-1.00</td>\n",
       "      <td>1</td>\n",
       "      <td>2013</td>\n",
       "    </tr>\n",
       "    <tr>\n",
       "      <th>32746</th>\n",
       "      <td>2013-01-06</td>\n",
       "      <td>0</td>\n",
       "      <td>2</td>\n",
       "      <td>5643</td>\n",
       "      <td>2390.00</td>\n",
       "      <td>1.00</td>\n",
       "      <td>1</td>\n",
       "      <td>2013</td>\n",
       "    </tr>\n",
       "  </tbody>\n",
       "</table>\n",
       "</div>"
      ],
      "text/plain": [
       "            date  date_block_num  shop_id  item_id  item_price  item_volume  \\\n",
       "32745 2013-01-02               0        2     5643     2385.21        -1.00   \n",
       "32746 2013-01-06               0        2     5643     2390.00         1.00   \n",
       "\n",
       "       month  year  \n",
       "32745      1  2013  \n",
       "32746      1  2013  "
      ]
     },
     "execution_count": 12,
     "metadata": {},
     "output_type": "execute_result"
    }
   ],
   "source": [
    "# VOLUME CAN BE 0 (returns are negative)\n",
    "df_train[(df_train.item_id==5643) & (df_train.date_block_num==0) & (df_train.shop_id==2)]"
   ]
  },
  {
   "cell_type": "markdown",
   "metadata": {},
   "source": [
    "### Prepare test set and concatenate with training set"
   ]
  },
  {
   "cell_type": "code",
   "execution_count": 13,
   "metadata": {},
   "outputs": [],
   "source": [
    "df_test = test.copy()"
   ]
  },
  {
   "cell_type": "code",
   "execution_count": 14,
   "metadata": {},
   "outputs": [],
   "source": [
    "df_test[\"date_block_num\"] = 34\n",
    "df_test[\"year\"] = 2015\n",
    "df_test[\"month\"] = 11\n",
    "df_test[\"item_volume\"] = 0\n",
    "df_test[\"item_price\"] = 0"
   ]
  },
  {
   "cell_type": "code",
   "execution_count": 15,
   "metadata": {},
   "outputs": [],
   "source": [
    "df_test = df_test[[\"date_block_num\", \"year\", \"month\", \"shop_id\", \"item_id\", \"item_volume\", \"item_price\"]]"
   ]
  },
  {
   "cell_type": "code",
   "execution_count": 16,
   "metadata": {},
   "outputs": [],
   "source": [
    "df = pd.concat([gp, df_test], ignore_index=True)"
   ]
  },
  {
   "cell_type": "code",
   "execution_count": 17,
   "metadata": {},
   "outputs": [],
   "source": [
    "df[\"revenue\"] = df[\"item_volume\"] * df[\"item_price\"]"
   ]
  },
  {
   "cell_type": "code",
   "execution_count": 18,
   "metadata": {},
   "outputs": [],
   "source": [
    "def downcast_dtypes(df):\n",
    "    float_cols = [c for c in df if df[c].dtype == \"float64\"]\n",
    "    int_cols = [c for c in df if df[c].dtype in [\"int64\", \"int32\"]]\n",
    "    df[float_cols] = df[float_cols].astype(np.float32)\n",
    "    df[int_cols] = df[int_cols].astype(np.int16)\n",
    "    return df\n",
    "\n",
    "df = downcast_dtypes(df)"
   ]
  },
  {
   "cell_type": "code",
   "execution_count": 19,
   "metadata": {},
   "outputs": [
    {
     "name": "stdout",
     "output_type": "stream",
     "text": [
      "<class 'pandas.core.frame.DataFrame'>\n",
      "RangeIndex: 1823317 entries, 0 to 1823316\n",
      "Data columns (total 8 columns):\n",
      " #   Column          Dtype  \n",
      "---  ------          -----  \n",
      " 0   date_block_num  int16  \n",
      " 1   year            int16  \n",
      " 2   month           int16  \n",
      " 3   shop_id         int16  \n",
      " 4   item_id         int16  \n",
      " 5   item_volume     float32\n",
      " 6   item_price      float32\n",
      " 7   revenue         float32\n",
      "dtypes: float32(3), int16(5)\n",
      "memory usage: 38.3 MB\n"
     ]
    }
   ],
   "source": [
    "df.info()"
   ]
  },
  {
   "cell_type": "markdown",
   "metadata": {},
   "source": [
    "### Prepare Shops & Categories"
   ]
  },
  {
   "cell_type": "code",
   "execution_count": 20,
   "metadata": {},
   "outputs": [],
   "source": [
    "shops['city'] = shops['shop_name'].str.split(' ').map(lambda x: x[0])\n",
    "shops['city_code'] = LabelEncoder().fit_transform(shops['city'])\n",
    "shops = shops[[\"shop_id\", \"city_code\"]]"
   ]
  },
  {
   "cell_type": "code",
   "execution_count": 21,
   "metadata": {},
   "outputs": [],
   "source": [
    "categories['split'] = categories['item_category_name'].str.split('-')\n",
    "categories['cat'] = categories['split'].map(lambda x: x[0].strip())\n",
    "categories['cat_code'] = LabelEncoder().fit_transform(categories['cat'])\n",
    "# if subcategory is nan then category\n",
    "categories['subcat'] = categories['split'].map(lambda x: x[1].strip() if len(x) > 1 else x[0].strip())\n",
    "categories['subcat_code'] = LabelEncoder().fit_transform(categories['subcat'])\n",
    "categories = categories[[\"item_category_id\", \"cat_code\", \"subcat_code\"]]"
   ]
  },
  {
   "cell_type": "code",
   "execution_count": 22,
   "metadata": {},
   "outputs": [],
   "source": [
    "items.drop(columns=[\"item_name\"], axis=1, inplace=True)"
   ]
  },
  {
   "cell_type": "markdown",
   "metadata": {},
   "source": [
    "### Merge & process dates"
   ]
  },
  {
   "cell_type": "code",
   "execution_count": 23,
   "metadata": {},
   "outputs": [],
   "source": [
    "full_data = pd.merge(df, items, on=[\"item_id\"], how='left')\n",
    "full_data = pd.merge(full_data, categories, on=\"item_category_id\", how='left')\n",
    "full_data = pd.merge(full_data, shops, on=\"shop_id\", how='left')"
   ]
  },
  {
   "cell_type": "code",
   "execution_count": 24,
   "metadata": {},
   "outputs": [],
   "source": [
    "df = full_data.copy()"
   ]
  },
  {
   "cell_type": "code",
   "execution_count": 25,
   "metadata": {
    "scrolled": false
   },
   "outputs": [
    {
     "data": {
      "text/html": [
       "<div>\n",
       "<style scoped>\n",
       "    .dataframe tbody tr th:only-of-type {\n",
       "        vertical-align: middle;\n",
       "    }\n",
       "\n",
       "    .dataframe tbody tr th {\n",
       "        vertical-align: top;\n",
       "    }\n",
       "\n",
       "    .dataframe thead th {\n",
       "        text-align: right;\n",
       "    }\n",
       "</style>\n",
       "<table border=\"1\" class=\"dataframe\">\n",
       "  <thead>\n",
       "    <tr style=\"text-align: right;\">\n",
       "      <th></th>\n",
       "      <th>date_block_num</th>\n",
       "      <th>year</th>\n",
       "      <th>month</th>\n",
       "      <th>shop_id</th>\n",
       "      <th>item_id</th>\n",
       "      <th>item_volume</th>\n",
       "      <th>item_price</th>\n",
       "      <th>revenue</th>\n",
       "      <th>item_category_id</th>\n",
       "      <th>cat_code</th>\n",
       "      <th>subcat_code</th>\n",
       "      <th>city_code</th>\n",
       "    </tr>\n",
       "  </thead>\n",
       "  <tbody>\n",
       "    <tr>\n",
       "      <th>0</th>\n",
       "      <td>0</td>\n",
       "      <td>2013</td>\n",
       "      <td>1</td>\n",
       "      <td>0</td>\n",
       "      <td>32</td>\n",
       "      <td>6.00</td>\n",
       "      <td>221.00</td>\n",
       "      <td>1326.00</td>\n",
       "      <td>40</td>\n",
       "      <td>11</td>\n",
       "      <td>4</td>\n",
       "      <td>0</td>\n",
       "    </tr>\n",
       "    <tr>\n",
       "      <th>1</th>\n",
       "      <td>0</td>\n",
       "      <td>2013</td>\n",
       "      <td>1</td>\n",
       "      <td>0</td>\n",
       "      <td>33</td>\n",
       "      <td>3.00</td>\n",
       "      <td>347.00</td>\n",
       "      <td>1041.00</td>\n",
       "      <td>37</td>\n",
       "      <td>11</td>\n",
       "      <td>1</td>\n",
       "      <td>0</td>\n",
       "    </tr>\n",
       "    <tr>\n",
       "      <th>2</th>\n",
       "      <td>0</td>\n",
       "      <td>2013</td>\n",
       "      <td>1</td>\n",
       "      <td>0</td>\n",
       "      <td>35</td>\n",
       "      <td>1.00</td>\n",
       "      <td>247.00</td>\n",
       "      <td>247.00</td>\n",
       "      <td>40</td>\n",
       "      <td>11</td>\n",
       "      <td>4</td>\n",
       "      <td>0</td>\n",
       "    </tr>\n",
       "    <tr>\n",
       "      <th>3</th>\n",
       "      <td>0</td>\n",
       "      <td>2013</td>\n",
       "      <td>1</td>\n",
       "      <td>0</td>\n",
       "      <td>43</td>\n",
       "      <td>1.00</td>\n",
       "      <td>221.00</td>\n",
       "      <td>221.00</td>\n",
       "      <td>40</td>\n",
       "      <td>11</td>\n",
       "      <td>4</td>\n",
       "      <td>0</td>\n",
       "    </tr>\n",
       "    <tr>\n",
       "      <th>4</th>\n",
       "      <td>0</td>\n",
       "      <td>2013</td>\n",
       "      <td>1</td>\n",
       "      <td>0</td>\n",
       "      <td>51</td>\n",
       "      <td>2.00</td>\n",
       "      <td>128.50</td>\n",
       "      <td>257.00</td>\n",
       "      <td>57</td>\n",
       "      <td>13</td>\n",
       "      <td>8</td>\n",
       "      <td>0</td>\n",
       "    </tr>\n",
       "    <tr>\n",
       "      <th>...</th>\n",
       "      <td>...</td>\n",
       "      <td>...</td>\n",
       "      <td>...</td>\n",
       "      <td>...</td>\n",
       "      <td>...</td>\n",
       "      <td>...</td>\n",
       "      <td>...</td>\n",
       "      <td>...</td>\n",
       "      <td>...</td>\n",
       "      <td>...</td>\n",
       "      <td>...</td>\n",
       "      <td>...</td>\n",
       "    </tr>\n",
       "    <tr>\n",
       "      <th>1823312</th>\n",
       "      <td>34</td>\n",
       "      <td>2015</td>\n",
       "      <td>11</td>\n",
       "      <td>45</td>\n",
       "      <td>18454</td>\n",
       "      <td>0.00</td>\n",
       "      <td>0.00</td>\n",
       "      <td>0.00</td>\n",
       "      <td>55</td>\n",
       "      <td>13</td>\n",
       "      <td>2</td>\n",
       "      <td>21</td>\n",
       "    </tr>\n",
       "    <tr>\n",
       "      <th>1823313</th>\n",
       "      <td>34</td>\n",
       "      <td>2015</td>\n",
       "      <td>11</td>\n",
       "      <td>45</td>\n",
       "      <td>16188</td>\n",
       "      <td>0.00</td>\n",
       "      <td>0.00</td>\n",
       "      <td>0.00</td>\n",
       "      <td>64</td>\n",
       "      <td>14</td>\n",
       "      <td>42</td>\n",
       "      <td>21</td>\n",
       "    </tr>\n",
       "    <tr>\n",
       "      <th>1823314</th>\n",
       "      <td>34</td>\n",
       "      <td>2015</td>\n",
       "      <td>11</td>\n",
       "      <td>45</td>\n",
       "      <td>15757</td>\n",
       "      <td>0.00</td>\n",
       "      <td>0.00</td>\n",
       "      <td>0.00</td>\n",
       "      <td>55</td>\n",
       "      <td>13</td>\n",
       "      <td>2</td>\n",
       "      <td>21</td>\n",
       "    </tr>\n",
       "    <tr>\n",
       "      <th>1823315</th>\n",
       "      <td>34</td>\n",
       "      <td>2015</td>\n",
       "      <td>11</td>\n",
       "      <td>45</td>\n",
       "      <td>19648</td>\n",
       "      <td>0.00</td>\n",
       "      <td>0.00</td>\n",
       "      <td>0.00</td>\n",
       "      <td>40</td>\n",
       "      <td>11</td>\n",
       "      <td>4</td>\n",
       "      <td>21</td>\n",
       "    </tr>\n",
       "    <tr>\n",
       "      <th>1823316</th>\n",
       "      <td>34</td>\n",
       "      <td>2015</td>\n",
       "      <td>11</td>\n",
       "      <td>45</td>\n",
       "      <td>969</td>\n",
       "      <td>0.00</td>\n",
       "      <td>0.00</td>\n",
       "      <td>0.00</td>\n",
       "      <td>37</td>\n",
       "      <td>11</td>\n",
       "      <td>1</td>\n",
       "      <td>21</td>\n",
       "    </tr>\n",
       "  </tbody>\n",
       "</table>\n",
       "<p>1823317 rows × 12 columns</p>\n",
       "</div>"
      ],
      "text/plain": [
       "         date_block_num  year  month  shop_id  item_id  item_volume  \\\n",
       "0                     0  2013      1        0       32         6.00   \n",
       "1                     0  2013      1        0       33         3.00   \n",
       "2                     0  2013      1        0       35         1.00   \n",
       "3                     0  2013      1        0       43         1.00   \n",
       "4                     0  2013      1        0       51         2.00   \n",
       "...                 ...   ...    ...      ...      ...          ...   \n",
       "1823312              34  2015     11       45    18454         0.00   \n",
       "1823313              34  2015     11       45    16188         0.00   \n",
       "1823314              34  2015     11       45    15757         0.00   \n",
       "1823315              34  2015     11       45    19648         0.00   \n",
       "1823316              34  2015     11       45      969         0.00   \n",
       "\n",
       "         item_price  revenue  item_category_id  cat_code  subcat_code  \\\n",
       "0            221.00  1326.00                40        11            4   \n",
       "1            347.00  1041.00                37        11            1   \n",
       "2            247.00   247.00                40        11            4   \n",
       "3            221.00   221.00                40        11            4   \n",
       "4            128.50   257.00                57        13            8   \n",
       "...             ...      ...               ...       ...          ...   \n",
       "1823312        0.00     0.00                55        13            2   \n",
       "1823313        0.00     0.00                64        14           42   \n",
       "1823314        0.00     0.00                55        13            2   \n",
       "1823315        0.00     0.00                40        11            4   \n",
       "1823316        0.00     0.00                37        11            1   \n",
       "\n",
       "         city_code  \n",
       "0                0  \n",
       "1                0  \n",
       "2                0  \n",
       "3                0  \n",
       "4                0  \n",
       "...            ...  \n",
       "1823312         21  \n",
       "1823313         21  \n",
       "1823314         21  \n",
       "1823315         21  \n",
       "1823316         21  \n",
       "\n",
       "[1823317 rows x 12 columns]"
      ]
     },
     "execution_count": 25,
     "metadata": {},
     "output_type": "execute_result"
    }
   ],
   "source": [
    "df"
   ]
  },
  {
   "cell_type": "markdown",
   "metadata": {},
   "source": [
    "### KPIs"
   ]
  },
  {
   "cell_type": "code",
   "execution_count": 26,
   "metadata": {},
   "outputs": [],
   "source": [
    "def _add_kpi(df, index_columns, col_name, kpi, agg, lag=0):\n",
    "    temp = df.groupby(index_columns).agg({ kpi : agg}).reset_index()\n",
    "    temp[\"date_block_num\"] = temp[\"date_block_num\"] + lag\n",
    "    if lag==0:\n",
    "        lag_str = \"\"\n",
    "    else:\n",
    "        lag_str = \"_\" + str(lag)\n",
    "    temp = temp.rename(columns={ kpi : (col_name + lag_str) })\n",
    "    df = pd.merge(df, temp, how='left', on = index_columns)\n",
    "    # Avoid 0 volume\n",
    "    df[col_name + lag_str] = np.where(df[col_name + lag_str]==0, 1, df[col_name + lag_str])\n",
    "    if lag!=0:\n",
    "        df[col_name + lag_str + \"_trend\"] = \\\n",
    "        (df[\"item_volume\"] - df[col_name + lag_str]) / df[col_name + lag_str]\n",
    "    return df"
   ]
  },
  {
   "cell_type": "code",
   "execution_count": 27,
   "metadata": {},
   "outputs": [],
   "source": [
    "def _add_lag_item(df, lag=0):\n",
    "    temp = df[[\"date_block_num\", \"item_id\", \"shop_id\", \"item_volume\"]]\n",
    "    temp[\"date_block_num\"] = temp[\"date_block_num\"] + lag   \n",
    "    temp = temp.rename(columns={ \"item_volume\" : (\"item_volume_\" + str(lag)) })\n",
    "    df = pd.merge(df, temp, how='left', on = [\"date_block_num\", \"shop_id\", \"item_id\"])\n",
    "    # Avoid 0 volume\n",
    "    df[\"item_volume_\" + str(lag)] = np.where(df[\"item_volume_\" + str(lag)]==0, 1, df[\"item_volume_\" + str(lag)])\n",
    "    df[\"item_volume_\" + str(lag) + \"_trend\"] = \\\n",
    "    (df[\"item_volume\"] - df[\"item_volume_\" + str(lag)]) / df[\"item_volume_\" + str(lag)]\n",
    "    return df "
   ]
  },
  {
   "cell_type": "markdown",
   "metadata": {},
   "source": [
    "#### Sum"
   ]
  },
  {
   "cell_type": "code",
   "execution_count": 28,
   "metadata": {},
   "outputs": [],
   "source": [
    "# Sum of item_volume groupby month\n",
    "df = _add_kpi(df, [\"date_block_num\"], \"sum_volume_month\", \"item_volume\", \"sum\")\n",
    "# Sum of item_volume groupby month, shop\n",
    "df = _add_kpi(df, [\"date_block_num\", \"shop_id\"], \"sum_volume_month_shop\", \"item_volume\", \"sum\")\n",
    "# Sum of item_volume groupby month, shop, category\n",
    "df = _add_kpi(df, [\"date_block_num\", \"shop_id\", \"item_category_id\"], \"sum_volume_month_shop_category\", \"item_volume\", \"sum\")"
   ]
  },
  {
   "cell_type": "markdown",
   "metadata": {},
   "source": [
    "#### Mean"
   ]
  },
  {
   "cell_type": "code",
   "execution_count": 29,
   "metadata": {},
   "outputs": [],
   "source": [
    "# Mean of item_volume groupby month\n",
    "df = _add_kpi(df, [\"date_block_num\"], \"mean_volume_month\", \"item_volume\", \"mean\")\n",
    "# Mean of item_volume groupby month, shop\n",
    "df = _add_kpi(df, [\"date_block_num\", \"shop_id\"], \"mean_volume_month_shop\", \"item_volume\", \"mean\")\n",
    "# Mean of item_volume groupby month, shop, category\n",
    "df = _add_kpi(df, [\"date_block_num\", \"shop_id\", \"item_category_id\"], \"mean_volume_month_shop_category\", \"item_volume\", \"mean\")"
   ]
  },
  {
   "cell_type": "code",
   "execution_count": 30,
   "metadata": {},
   "outputs": [
    {
     "data": {
      "text/html": [
       "<div>\n",
       "<style scoped>\n",
       "    .dataframe tbody tr th:only-of-type {\n",
       "        vertical-align: middle;\n",
       "    }\n",
       "\n",
       "    .dataframe tbody tr th {\n",
       "        vertical-align: top;\n",
       "    }\n",
       "\n",
       "    .dataframe thead th {\n",
       "        text-align: right;\n",
       "    }\n",
       "</style>\n",
       "<table border=\"1\" class=\"dataframe\">\n",
       "  <thead>\n",
       "    <tr style=\"text-align: right;\">\n",
       "      <th></th>\n",
       "      <th>date_block_num</th>\n",
       "      <th>year</th>\n",
       "      <th>month</th>\n",
       "      <th>shop_id</th>\n",
       "      <th>item_id</th>\n",
       "      <th>item_volume</th>\n",
       "      <th>item_price</th>\n",
       "      <th>revenue</th>\n",
       "      <th>item_category_id</th>\n",
       "      <th>cat_code</th>\n",
       "      <th>subcat_code</th>\n",
       "      <th>city_code</th>\n",
       "      <th>sum_volume_month</th>\n",
       "      <th>sum_volume_month_shop</th>\n",
       "      <th>sum_volume_month_shop_category</th>\n",
       "      <th>mean_volume_month</th>\n",
       "      <th>mean_volume_month_shop</th>\n",
       "      <th>mean_volume_month_shop_category</th>\n",
       "    </tr>\n",
       "  </thead>\n",
       "  <tbody>\n",
       "    <tr>\n",
       "      <th>0</th>\n",
       "      <td>0</td>\n",
       "      <td>2013</td>\n",
       "      <td>1</td>\n",
       "      <td>0</td>\n",
       "      <td>32</td>\n",
       "      <td>6.00</td>\n",
       "      <td>221.00</td>\n",
       "      <td>1326.00</td>\n",
       "      <td>40</td>\n",
       "      <td>11</td>\n",
       "      <td>4</td>\n",
       "      <td>0</td>\n",
       "      <td>131479.00</td>\n",
       "      <td>5578.00</td>\n",
       "      <td>1838.00</td>\n",
       "      <td>2.08</td>\n",
       "      <td>2.34</td>\n",
       "      <td>2.21</td>\n",
       "    </tr>\n",
       "    <tr>\n",
       "      <th>1</th>\n",
       "      <td>0</td>\n",
       "      <td>2013</td>\n",
       "      <td>1</td>\n",
       "      <td>0</td>\n",
       "      <td>33</td>\n",
       "      <td>3.00</td>\n",
       "      <td>347.00</td>\n",
       "      <td>1041.00</td>\n",
       "      <td>37</td>\n",
       "      <td>11</td>\n",
       "      <td>1</td>\n",
       "      <td>0</td>\n",
       "      <td>131479.00</td>\n",
       "      <td>5578.00</td>\n",
       "      <td>302.00</td>\n",
       "      <td>2.08</td>\n",
       "      <td>2.34</td>\n",
       "      <td>1.44</td>\n",
       "    </tr>\n",
       "    <tr>\n",
       "      <th>2</th>\n",
       "      <td>0</td>\n",
       "      <td>2013</td>\n",
       "      <td>1</td>\n",
       "      <td>0</td>\n",
       "      <td>35</td>\n",
       "      <td>1.00</td>\n",
       "      <td>247.00</td>\n",
       "      <td>247.00</td>\n",
       "      <td>40</td>\n",
       "      <td>11</td>\n",
       "      <td>4</td>\n",
       "      <td>0</td>\n",
       "      <td>131479.00</td>\n",
       "      <td>5578.00</td>\n",
       "      <td>1838.00</td>\n",
       "      <td>2.08</td>\n",
       "      <td>2.34</td>\n",
       "      <td>2.21</td>\n",
       "    </tr>\n",
       "    <tr>\n",
       "      <th>3</th>\n",
       "      <td>0</td>\n",
       "      <td>2013</td>\n",
       "      <td>1</td>\n",
       "      <td>0</td>\n",
       "      <td>43</td>\n",
       "      <td>1.00</td>\n",
       "      <td>221.00</td>\n",
       "      <td>221.00</td>\n",
       "      <td>40</td>\n",
       "      <td>11</td>\n",
       "      <td>4</td>\n",
       "      <td>0</td>\n",
       "      <td>131479.00</td>\n",
       "      <td>5578.00</td>\n",
       "      <td>1838.00</td>\n",
       "      <td>2.08</td>\n",
       "      <td>2.34</td>\n",
       "      <td>2.21</td>\n",
       "    </tr>\n",
       "    <tr>\n",
       "      <th>4</th>\n",
       "      <td>0</td>\n",
       "      <td>2013</td>\n",
       "      <td>1</td>\n",
       "      <td>0</td>\n",
       "      <td>51</td>\n",
       "      <td>2.00</td>\n",
       "      <td>128.50</td>\n",
       "      <td>257.00</td>\n",
       "      <td>57</td>\n",
       "      <td>13</td>\n",
       "      <td>8</td>\n",
       "      <td>0</td>\n",
       "      <td>131479.00</td>\n",
       "      <td>5578.00</td>\n",
       "      <td>60.00</td>\n",
       "      <td>2.08</td>\n",
       "      <td>2.34</td>\n",
       "      <td>1.18</td>\n",
       "    </tr>\n",
       "    <tr>\n",
       "      <th>...</th>\n",
       "      <td>...</td>\n",
       "      <td>...</td>\n",
       "      <td>...</td>\n",
       "      <td>...</td>\n",
       "      <td>...</td>\n",
       "      <td>...</td>\n",
       "      <td>...</td>\n",
       "      <td>...</td>\n",
       "      <td>...</td>\n",
       "      <td>...</td>\n",
       "      <td>...</td>\n",
       "      <td>...</td>\n",
       "      <td>...</td>\n",
       "      <td>...</td>\n",
       "      <td>...</td>\n",
       "      <td>...</td>\n",
       "      <td>...</td>\n",
       "      <td>...</td>\n",
       "    </tr>\n",
       "    <tr>\n",
       "      <th>1823312</th>\n",
       "      <td>34</td>\n",
       "      <td>2015</td>\n",
       "      <td>11</td>\n",
       "      <td>45</td>\n",
       "      <td>18454</td>\n",
       "      <td>0.00</td>\n",
       "      <td>0.00</td>\n",
       "      <td>0.00</td>\n",
       "      <td>55</td>\n",
       "      <td>13</td>\n",
       "      <td>2</td>\n",
       "      <td>21</td>\n",
       "      <td>1.00</td>\n",
       "      <td>1.00</td>\n",
       "      <td>1.00</td>\n",
       "      <td>1.00</td>\n",
       "      <td>1.00</td>\n",
       "      <td>1.00</td>\n",
       "    </tr>\n",
       "    <tr>\n",
       "      <th>1823313</th>\n",
       "      <td>34</td>\n",
       "      <td>2015</td>\n",
       "      <td>11</td>\n",
       "      <td>45</td>\n",
       "      <td>16188</td>\n",
       "      <td>0.00</td>\n",
       "      <td>0.00</td>\n",
       "      <td>0.00</td>\n",
       "      <td>64</td>\n",
       "      <td>14</td>\n",
       "      <td>42</td>\n",
       "      <td>21</td>\n",
       "      <td>1.00</td>\n",
       "      <td>1.00</td>\n",
       "      <td>1.00</td>\n",
       "      <td>1.00</td>\n",
       "      <td>1.00</td>\n",
       "      <td>1.00</td>\n",
       "    </tr>\n",
       "    <tr>\n",
       "      <th>1823314</th>\n",
       "      <td>34</td>\n",
       "      <td>2015</td>\n",
       "      <td>11</td>\n",
       "      <td>45</td>\n",
       "      <td>15757</td>\n",
       "      <td>0.00</td>\n",
       "      <td>0.00</td>\n",
       "      <td>0.00</td>\n",
       "      <td>55</td>\n",
       "      <td>13</td>\n",
       "      <td>2</td>\n",
       "      <td>21</td>\n",
       "      <td>1.00</td>\n",
       "      <td>1.00</td>\n",
       "      <td>1.00</td>\n",
       "      <td>1.00</td>\n",
       "      <td>1.00</td>\n",
       "      <td>1.00</td>\n",
       "    </tr>\n",
       "    <tr>\n",
       "      <th>1823315</th>\n",
       "      <td>34</td>\n",
       "      <td>2015</td>\n",
       "      <td>11</td>\n",
       "      <td>45</td>\n",
       "      <td>19648</td>\n",
       "      <td>0.00</td>\n",
       "      <td>0.00</td>\n",
       "      <td>0.00</td>\n",
       "      <td>40</td>\n",
       "      <td>11</td>\n",
       "      <td>4</td>\n",
       "      <td>21</td>\n",
       "      <td>1.00</td>\n",
       "      <td>1.00</td>\n",
       "      <td>1.00</td>\n",
       "      <td>1.00</td>\n",
       "      <td>1.00</td>\n",
       "      <td>1.00</td>\n",
       "    </tr>\n",
       "    <tr>\n",
       "      <th>1823316</th>\n",
       "      <td>34</td>\n",
       "      <td>2015</td>\n",
       "      <td>11</td>\n",
       "      <td>45</td>\n",
       "      <td>969</td>\n",
       "      <td>0.00</td>\n",
       "      <td>0.00</td>\n",
       "      <td>0.00</td>\n",
       "      <td>37</td>\n",
       "      <td>11</td>\n",
       "      <td>1</td>\n",
       "      <td>21</td>\n",
       "      <td>1.00</td>\n",
       "      <td>1.00</td>\n",
       "      <td>1.00</td>\n",
       "      <td>1.00</td>\n",
       "      <td>1.00</td>\n",
       "      <td>1.00</td>\n",
       "    </tr>\n",
       "  </tbody>\n",
       "</table>\n",
       "<p>1823317 rows × 18 columns</p>\n",
       "</div>"
      ],
      "text/plain": [
       "         date_block_num  year  month  shop_id  item_id  item_volume  \\\n",
       "0                     0  2013      1        0       32         6.00   \n",
       "1                     0  2013      1        0       33         3.00   \n",
       "2                     0  2013      1        0       35         1.00   \n",
       "3                     0  2013      1        0       43         1.00   \n",
       "4                     0  2013      1        0       51         2.00   \n",
       "...                 ...   ...    ...      ...      ...          ...   \n",
       "1823312              34  2015     11       45    18454         0.00   \n",
       "1823313              34  2015     11       45    16188         0.00   \n",
       "1823314              34  2015     11       45    15757         0.00   \n",
       "1823315              34  2015     11       45    19648         0.00   \n",
       "1823316              34  2015     11       45      969         0.00   \n",
       "\n",
       "         item_price  revenue  item_category_id  cat_code  subcat_code  \\\n",
       "0            221.00  1326.00                40        11            4   \n",
       "1            347.00  1041.00                37        11            1   \n",
       "2            247.00   247.00                40        11            4   \n",
       "3            221.00   221.00                40        11            4   \n",
       "4            128.50   257.00                57        13            8   \n",
       "...             ...      ...               ...       ...          ...   \n",
       "1823312        0.00     0.00                55        13            2   \n",
       "1823313        0.00     0.00                64        14           42   \n",
       "1823314        0.00     0.00                55        13            2   \n",
       "1823315        0.00     0.00                40        11            4   \n",
       "1823316        0.00     0.00                37        11            1   \n",
       "\n",
       "         city_code  sum_volume_month  sum_volume_month_shop  \\\n",
       "0                0         131479.00                5578.00   \n",
       "1                0         131479.00                5578.00   \n",
       "2                0         131479.00                5578.00   \n",
       "3                0         131479.00                5578.00   \n",
       "4                0         131479.00                5578.00   \n",
       "...            ...               ...                    ...   \n",
       "1823312         21              1.00                   1.00   \n",
       "1823313         21              1.00                   1.00   \n",
       "1823314         21              1.00                   1.00   \n",
       "1823315         21              1.00                   1.00   \n",
       "1823316         21              1.00                   1.00   \n",
       "\n",
       "         sum_volume_month_shop_category  mean_volume_month  \\\n",
       "0                               1838.00               2.08   \n",
       "1                                302.00               2.08   \n",
       "2                               1838.00               2.08   \n",
       "3                               1838.00               2.08   \n",
       "4                                 60.00               2.08   \n",
       "...                                 ...                ...   \n",
       "1823312                            1.00               1.00   \n",
       "1823313                            1.00               1.00   \n",
       "1823314                            1.00               1.00   \n",
       "1823315                            1.00               1.00   \n",
       "1823316                            1.00               1.00   \n",
       "\n",
       "         mean_volume_month_shop  mean_volume_month_shop_category  \n",
       "0                          2.34                             2.21  \n",
       "1                          2.34                             1.44  \n",
       "2                          2.34                             2.21  \n",
       "3                          2.34                             2.21  \n",
       "4                          2.34                             1.18  \n",
       "...                         ...                              ...  \n",
       "1823312                    1.00                             1.00  \n",
       "1823313                    1.00                             1.00  \n",
       "1823314                    1.00                             1.00  \n",
       "1823315                    1.00                             1.00  \n",
       "1823316                    1.00                             1.00  \n",
       "\n",
       "[1823317 rows x 18 columns]"
      ]
     },
     "execution_count": 30,
     "metadata": {},
     "output_type": "execute_result"
    }
   ],
   "source": [
    "df"
   ]
  },
  {
   "cell_type": "markdown",
   "metadata": {},
   "source": [
    "#### Lags"
   ]
  },
  {
   "cell_type": "code",
   "execution_count": 31,
   "metadata": {},
   "outputs": [],
   "source": [
    "# Lag 1 month Sum of item_volume groupby month\n",
    "df = _add_kpi(df, [\"date_block_num\"], \"sum_volume_month\", \"item_volume\", \"sum\", 1)\n",
    "# Lag 12 months Sum of item_volume groupby month\n",
    "df = _add_kpi(df, [\"date_block_num\"], \"sum_volume_month\", \"item_volume\", \"sum\", 12)"
   ]
  },
  {
   "cell_type": "code",
   "execution_count": 32,
   "metadata": {
    "scrolled": true
   },
   "outputs": [
    {
     "name": "stderr",
     "output_type": "stream",
     "text": [
      "/Users/taharaouz/.pyenv/versions/3.7.3/lib/python3.7/site-packages/ipykernel_launcher.py:3: SettingWithCopyWarning: \n",
      "A value is trying to be set on a copy of a slice from a DataFrame.\n",
      "Try using .loc[row_indexer,col_indexer] = value instead\n",
      "\n",
      "See the caveats in the documentation: https://pandas.pydata.org/pandas-docs/stable/user_guide/indexing.html#returning-a-view-versus-a-copy\n",
      "  This is separate from the ipykernel package so we can avoid doing imports until\n"
     ]
    }
   ],
   "source": [
    "# Lag 1 month Sum of item_volume\n",
    "df = _add_lag_item(df, 1)\n",
    "# Lag 12 month Sum of item_volume\n",
    "df = _add_lag_item(df, 12)"
   ]
  },
  {
   "cell_type": "markdown",
   "metadata": {},
   "source": [
    "# Model"
   ]
  },
  {
   "cell_type": "code",
   "execution_count": 33,
   "metadata": {},
   "outputs": [],
   "source": [
    "df = df.fillna(0)"
   ]
  },
  {
   "cell_type": "code",
   "execution_count": 34,
   "metadata": {
    "scrolled": false
   },
   "outputs": [
    {
     "data": {
      "text/html": [
       "<div>\n",
       "<style scoped>\n",
       "    .dataframe tbody tr th:only-of-type {\n",
       "        vertical-align: middle;\n",
       "    }\n",
       "\n",
       "    .dataframe tbody tr th {\n",
       "        vertical-align: top;\n",
       "    }\n",
       "\n",
       "    .dataframe thead th {\n",
       "        text-align: right;\n",
       "    }\n",
       "</style>\n",
       "<table border=\"1\" class=\"dataframe\">\n",
       "  <thead>\n",
       "    <tr style=\"text-align: right;\">\n",
       "      <th></th>\n",
       "      <th>date_block_num</th>\n",
       "      <th>year</th>\n",
       "      <th>month</th>\n",
       "      <th>shop_id</th>\n",
       "      <th>item_id</th>\n",
       "      <th>item_volume</th>\n",
       "      <th>item_price</th>\n",
       "      <th>revenue</th>\n",
       "      <th>item_category_id</th>\n",
       "      <th>cat_code</th>\n",
       "      <th>...</th>\n",
       "      <th>mean_volume_month_shop</th>\n",
       "      <th>mean_volume_month_shop_category</th>\n",
       "      <th>sum_volume_month_1</th>\n",
       "      <th>sum_volume_month_1_trend</th>\n",
       "      <th>sum_volume_month_12</th>\n",
       "      <th>sum_volume_month_12_trend</th>\n",
       "      <th>item_volume_1</th>\n",
       "      <th>item_volume_1_trend</th>\n",
       "      <th>item_volume_12</th>\n",
       "      <th>item_volume_12_trend</th>\n",
       "    </tr>\n",
       "  </thead>\n",
       "  <tbody>\n",
       "    <tr>\n",
       "      <th>4147</th>\n",
       "      <td>0</td>\n",
       "      <td>2013</td>\n",
       "      <td>1</td>\n",
       "      <td>2</td>\n",
       "      <td>5643</td>\n",
       "      <td>0.00</td>\n",
       "      <td>2387.60</td>\n",
       "      <td>0.00</td>\n",
       "      <td>2</td>\n",
       "      <td>1</td>\n",
       "      <td>...</td>\n",
       "      <td>1.57</td>\n",
       "      <td>2.50</td>\n",
       "      <td>0.00</td>\n",
       "      <td>0.00</td>\n",
       "      <td>0.00</td>\n",
       "      <td>0.00</td>\n",
       "      <td>0.00</td>\n",
       "      <td>0.00</td>\n",
       "      <td>0.00</td>\n",
       "      <td>0.00</td>\n",
       "    </tr>\n",
       "    <tr>\n",
       "      <th>5609</th>\n",
       "      <td>0</td>\n",
       "      <td>2013</td>\n",
       "      <td>1</td>\n",
       "      <td>4</td>\n",
       "      <td>7218</td>\n",
       "      <td>0.00</td>\n",
       "      <td>1594.00</td>\n",
       "      <td>0.00</td>\n",
       "      <td>19</td>\n",
       "      <td>5</td>\n",
       "      <td>...</td>\n",
       "      <td>1.99</td>\n",
       "      <td>2.00</td>\n",
       "      <td>0.00</td>\n",
       "      <td>0.00</td>\n",
       "      <td>0.00</td>\n",
       "      <td>0.00</td>\n",
       "      <td>0.00</td>\n",
       "      <td>0.00</td>\n",
       "      <td>0.00</td>\n",
       "      <td>0.00</td>\n",
       "    </tr>\n",
       "    <tr>\n",
       "      <th>6558</th>\n",
       "      <td>0</td>\n",
       "      <td>2013</td>\n",
       "      <td>1</td>\n",
       "      <td>6</td>\n",
       "      <td>3676</td>\n",
       "      <td>0.00</td>\n",
       "      <td>2199.00</td>\n",
       "      <td>0.00</td>\n",
       "      <td>23</td>\n",
       "      <td>5</td>\n",
       "      <td>...</td>\n",
       "      <td>1.98</td>\n",
       "      <td>2.19</td>\n",
       "      <td>0.00</td>\n",
       "      <td>0.00</td>\n",
       "      <td>0.00</td>\n",
       "      <td>0.00</td>\n",
       "      <td>0.00</td>\n",
       "      <td>0.00</td>\n",
       "      <td>0.00</td>\n",
       "      <td>0.00</td>\n",
       "    </tr>\n",
       "    <tr>\n",
       "      <th>6566</th>\n",
       "      <td>0</td>\n",
       "      <td>2013</td>\n",
       "      <td>1</td>\n",
       "      <td>6</td>\n",
       "      <td>3778</td>\n",
       "      <td>0.00</td>\n",
       "      <td>899.00</td>\n",
       "      <td>0.00</td>\n",
       "      <td>58</td>\n",
       "      <td>13</td>\n",
       "      <td>...</td>\n",
       "      <td>1.98</td>\n",
       "      <td>1.05</td>\n",
       "      <td>0.00</td>\n",
       "      <td>0.00</td>\n",
       "      <td>0.00</td>\n",
       "      <td>0.00</td>\n",
       "      <td>0.00</td>\n",
       "      <td>0.00</td>\n",
       "      <td>0.00</td>\n",
       "      <td>0.00</td>\n",
       "    </tr>\n",
       "    <tr>\n",
       "      <th>6753</th>\n",
       "      <td>0</td>\n",
       "      <td>2013</td>\n",
       "      <td>1</td>\n",
       "      <td>6</td>\n",
       "      <td>5753</td>\n",
       "      <td>0.00</td>\n",
       "      <td>3490.00</td>\n",
       "      <td>0.00</td>\n",
       "      <td>75</td>\n",
       "      <td>15</td>\n",
       "      <td>...</td>\n",
       "      <td>1.98</td>\n",
       "      <td>3.33</td>\n",
       "      <td>0.00</td>\n",
       "      <td>0.00</td>\n",
       "      <td>0.00</td>\n",
       "      <td>0.00</td>\n",
       "      <td>0.00</td>\n",
       "      <td>0.00</td>\n",
       "      <td>0.00</td>\n",
       "      <td>0.00</td>\n",
       "    </tr>\n",
       "    <tr>\n",
       "      <th>...</th>\n",
       "      <td>...</td>\n",
       "      <td>...</td>\n",
       "      <td>...</td>\n",
       "      <td>...</td>\n",
       "      <td>...</td>\n",
       "      <td>...</td>\n",
       "      <td>...</td>\n",
       "      <td>...</td>\n",
       "      <td>...</td>\n",
       "      <td>...</td>\n",
       "      <td>...</td>\n",
       "      <td>...</td>\n",
       "      <td>...</td>\n",
       "      <td>...</td>\n",
       "      <td>...</td>\n",
       "      <td>...</td>\n",
       "      <td>...</td>\n",
       "      <td>...</td>\n",
       "      <td>...</td>\n",
       "      <td>...</td>\n",
       "      <td>...</td>\n",
       "    </tr>\n",
       "    <tr>\n",
       "      <th>1604603</th>\n",
       "      <td>33</td>\n",
       "      <td>2015</td>\n",
       "      <td>10</td>\n",
       "      <td>52</td>\n",
       "      <td>18187</td>\n",
       "      <td>0.00</td>\n",
       "      <td>299.00</td>\n",
       "      <td>0.00</td>\n",
       "      <td>57</td>\n",
       "      <td>13</td>\n",
       "      <td>...</td>\n",
       "      <td>1.48</td>\n",
       "      <td>0.88</td>\n",
       "      <td>68797.00</td>\n",
       "      <td>-1.00</td>\n",
       "      <td>104688.00</td>\n",
       "      <td>-1.00</td>\n",
       "      <td>0.00</td>\n",
       "      <td>0.00</td>\n",
       "      <td>0.00</td>\n",
       "      <td>0.00</td>\n",
       "    </tr>\n",
       "    <tr>\n",
       "      <th>1605813</th>\n",
       "      <td>33</td>\n",
       "      <td>2015</td>\n",
       "      <td>10</td>\n",
       "      <td>56</td>\n",
       "      <td>1538</td>\n",
       "      <td>0.00</td>\n",
       "      <td>999.00</td>\n",
       "      <td>0.00</td>\n",
       "      <td>19</td>\n",
       "      <td>5</td>\n",
       "      <td>...</td>\n",
       "      <td>1.57</td>\n",
       "      <td>1.54</td>\n",
       "      <td>68797.00</td>\n",
       "      <td>-1.00</td>\n",
       "      <td>104688.00</td>\n",
       "      <td>-1.00</td>\n",
       "      <td>0.00</td>\n",
       "      <td>0.00</td>\n",
       "      <td>0.00</td>\n",
       "      <td>0.00</td>\n",
       "    </tr>\n",
       "    <tr>\n",
       "      <th>1605870</th>\n",
       "      <td>33</td>\n",
       "      <td>2015</td>\n",
       "      <td>10</td>\n",
       "      <td>56</td>\n",
       "      <td>3237</td>\n",
       "      <td>0.00</td>\n",
       "      <td>1998.00</td>\n",
       "      <td>0.00</td>\n",
       "      <td>20</td>\n",
       "      <td>5</td>\n",
       "      <td>...</td>\n",
       "      <td>1.57</td>\n",
       "      <td>2.15</td>\n",
       "      <td>68797.00</td>\n",
       "      <td>-1.00</td>\n",
       "      <td>104688.00</td>\n",
       "      <td>-1.00</td>\n",
       "      <td>2.00</td>\n",
       "      <td>-1.00</td>\n",
       "      <td>8.00</td>\n",
       "      <td>-1.00</td>\n",
       "    </tr>\n",
       "    <tr>\n",
       "      <th>1606531</th>\n",
       "      <td>33</td>\n",
       "      <td>2015</td>\n",
       "      <td>10</td>\n",
       "      <td>56</td>\n",
       "      <td>19858</td>\n",
       "      <td>0.00</td>\n",
       "      <td>249.00</td>\n",
       "      <td>0.00</td>\n",
       "      <td>40</td>\n",
       "      <td>11</td>\n",
       "      <td>...</td>\n",
       "      <td>1.57</td>\n",
       "      <td>1.36</td>\n",
       "      <td>68797.00</td>\n",
       "      <td>-1.00</td>\n",
       "      <td>104688.00</td>\n",
       "      <td>-1.00</td>\n",
       "      <td>1.00</td>\n",
       "      <td>-1.00</td>\n",
       "      <td>3.00</td>\n",
       "      <td>-1.00</td>\n",
       "    </tr>\n",
       "    <tr>\n",
       "      <th>1607906</th>\n",
       "      <td>33</td>\n",
       "      <td>2015</td>\n",
       "      <td>10</td>\n",
       "      <td>58</td>\n",
       "      <td>3115</td>\n",
       "      <td>0.00</td>\n",
       "      <td>349.00</td>\n",
       "      <td>0.00</td>\n",
       "      <td>55</td>\n",
       "      <td>13</td>\n",
       "      <td>...</td>\n",
       "      <td>1.80</td>\n",
       "      <td>1.37</td>\n",
       "      <td>68797.00</td>\n",
       "      <td>-1.00</td>\n",
       "      <td>104688.00</td>\n",
       "      <td>-1.00</td>\n",
       "      <td>0.00</td>\n",
       "      <td>0.00</td>\n",
       "      <td>0.00</td>\n",
       "      <td>0.00</td>\n",
       "    </tr>\n",
       "  </tbody>\n",
       "</table>\n",
       "<p>2583 rows × 26 columns</p>\n",
       "</div>"
      ],
      "text/plain": [
       "         date_block_num  year  month  shop_id  item_id  item_volume  \\\n",
       "4147                  0  2013      1        2     5643         0.00   \n",
       "5609                  0  2013      1        4     7218         0.00   \n",
       "6558                  0  2013      1        6     3676         0.00   \n",
       "6566                  0  2013      1        6     3778         0.00   \n",
       "6753                  0  2013      1        6     5753         0.00   \n",
       "...                 ...   ...    ...      ...      ...          ...   \n",
       "1604603              33  2015     10       52    18187         0.00   \n",
       "1605813              33  2015     10       56     1538         0.00   \n",
       "1605870              33  2015     10       56     3237         0.00   \n",
       "1606531              33  2015     10       56    19858         0.00   \n",
       "1607906              33  2015     10       58     3115         0.00   \n",
       "\n",
       "         item_price  revenue  item_category_id  cat_code  ...  \\\n",
       "4147        2387.60     0.00                 2         1  ...   \n",
       "5609        1594.00     0.00                19         5  ...   \n",
       "6558        2199.00     0.00                23         5  ...   \n",
       "6566         899.00     0.00                58        13  ...   \n",
       "6753        3490.00     0.00                75        15  ...   \n",
       "...             ...      ...               ...       ...  ...   \n",
       "1604603      299.00     0.00                57        13  ...   \n",
       "1605813      999.00     0.00                19         5  ...   \n",
       "1605870     1998.00     0.00                20         5  ...   \n",
       "1606531      249.00     0.00                40        11  ...   \n",
       "1607906      349.00     0.00                55        13  ...   \n",
       "\n",
       "         mean_volume_month_shop  mean_volume_month_shop_category  \\\n",
       "4147                       1.57                             2.50   \n",
       "5609                       1.99                             2.00   \n",
       "6558                       1.98                             2.19   \n",
       "6566                       1.98                             1.05   \n",
       "6753                       1.98                             3.33   \n",
       "...                         ...                              ...   \n",
       "1604603                    1.48                             0.88   \n",
       "1605813                    1.57                             1.54   \n",
       "1605870                    1.57                             2.15   \n",
       "1606531                    1.57                             1.36   \n",
       "1607906                    1.80                             1.37   \n",
       "\n",
       "         sum_volume_month_1  sum_volume_month_1_trend  sum_volume_month_12  \\\n",
       "4147                   0.00                      0.00                 0.00   \n",
       "5609                   0.00                      0.00                 0.00   \n",
       "6558                   0.00                      0.00                 0.00   \n",
       "6566                   0.00                      0.00                 0.00   \n",
       "6753                   0.00                      0.00                 0.00   \n",
       "...                     ...                       ...                  ...   \n",
       "1604603            68797.00                     -1.00            104688.00   \n",
       "1605813            68797.00                     -1.00            104688.00   \n",
       "1605870            68797.00                     -1.00            104688.00   \n",
       "1606531            68797.00                     -1.00            104688.00   \n",
       "1607906            68797.00                     -1.00            104688.00   \n",
       "\n",
       "         sum_volume_month_12_trend  item_volume_1  item_volume_1_trend  \\\n",
       "4147                          0.00           0.00                 0.00   \n",
       "5609                          0.00           0.00                 0.00   \n",
       "6558                          0.00           0.00                 0.00   \n",
       "6566                          0.00           0.00                 0.00   \n",
       "6753                          0.00           0.00                 0.00   \n",
       "...                            ...            ...                  ...   \n",
       "1604603                      -1.00           0.00                 0.00   \n",
       "1605813                      -1.00           0.00                 0.00   \n",
       "1605870                      -1.00           2.00                -1.00   \n",
       "1606531                      -1.00           1.00                -1.00   \n",
       "1607906                      -1.00           0.00                 0.00   \n",
       "\n",
       "         item_volume_12  item_volume_12_trend  \n",
       "4147               0.00                  0.00  \n",
       "5609               0.00                  0.00  \n",
       "6558               0.00                  0.00  \n",
       "6566               0.00                  0.00  \n",
       "6753               0.00                  0.00  \n",
       "...                 ...                   ...  \n",
       "1604603            0.00                  0.00  \n",
       "1605813            0.00                  0.00  \n",
       "1605870            8.00                 -1.00  \n",
       "1606531            3.00                 -1.00  \n",
       "1607906            0.00                  0.00  \n",
       "\n",
       "[2583 rows x 26 columns]"
      ]
     },
     "execution_count": 34,
     "metadata": {},
     "output_type": "execute_result"
    }
   ],
   "source": [
    "df[(df.item_volume==0) & (df.date_block_num!=34)]"
   ]
  },
  {
   "cell_type": "code",
   "execution_count": 103,
   "metadata": {},
   "outputs": [],
   "source": [
    "X_train = df[df.date_block_num.isin(range(1,34))].drop(columns=[\"item_volume\"])\n",
    "y_train = df[df.date_block_num.isin(range(1,34))][[\"item_volume\"]]\n",
    "\n",
    "#X_val = df[df.date_block_num==33].drop(columns=[\"item_volume\"])\n",
    "#y_val = df[df.date_block_num==33][[\"item_volume\"]]\n",
    "\n",
    "X_test = df[df.date_block_num==34].drop(columns=[\"item_volume\"])"
   ]
  },
  {
   "cell_type": "code",
   "execution_count": 104,
   "metadata": {},
   "outputs": [],
   "source": [
    "columns_to_keep = ['date_block_num', 'month', 'shop_id', 'item_id', 'item_price', 'revenue',\n",
    "       'sum_volume_month', 'sum_volume_month_shop',\n",
    "       'sum_volume_month_shop_category', 'mean_volume_month',\n",
    "       'mean_volume_month_shop', 'mean_volume_month_shop_category',\n",
    "       'sum_volume_month_1', 'sum_volume_month_1_trend', 'sum_volume_month_12',\n",
    "       'sum_volume_month_12_trend', 'item_volume_1', 'item_volume_1_trend']\n",
    "X_train = X_train[columns_to_keep]\n",
    "X_test = X_test[columns_to_keep]"
   ]
  },
  {
   "cell_type": "code",
   "execution_count": 105,
   "metadata": {},
   "outputs": [],
   "source": [
    "scaler = StandardScaler()\n",
    "X_train_np = scaler.fit_transform(X_train)\n",
    "X_test_np = scaler.fit_transform(X_test)"
   ]
  },
  {
   "cell_type": "code",
   "execution_count": 106,
   "metadata": {},
   "outputs": [],
   "source": [
    "X_train = pd.DataFrame(X_train_np, columns=X_train.columns, index=X_train.index)\n",
    "X_test = pd.DataFrame(X_test_np, columns=X_test.columns, index=X_test.index)"
   ]
  },
  {
   "cell_type": "markdown",
   "metadata": {},
   "source": [
    "### Random Forest"
   ]
  },
  {
   "cell_type": "code",
   "execution_count": 86,
   "metadata": {
    "collapsed": true
   },
   "outputs": [
    {
     "name": "stderr",
     "output_type": "stream",
     "text": [
      "/Users/taharaouz/.pyenv/versions/3.7.3/lib/python3.7/site-packages/ipykernel_launcher.py:2: DataConversionWarning: A column-vector y was passed when a 1d array was expected. Please change the shape of y to (n_samples,), for example using ravel().\n",
      "  \n"
     ]
    },
    {
     "ename": "KeyboardInterrupt",
     "evalue": "",
     "output_type": "error",
     "traceback": [
      "\u001b[0;31m---------------------------------------------------------------------------\u001b[0m",
      "\u001b[0;31mKeyboardInterrupt\u001b[0m                         Traceback (most recent call last)",
      "\u001b[0;32m<ipython-input-86-397fac3484d2>\u001b[0m in \u001b[0;36m<module>\u001b[0;34m\u001b[0m\n\u001b[1;32m      1\u001b[0m \u001b[0mmodel\u001b[0m \u001b[0;34m=\u001b[0m \u001b[0mRandomForestRegressor\u001b[0m\u001b[0;34m(\u001b[0m\u001b[0mn_estimators\u001b[0m\u001b[0;34m=\u001b[0m\u001b[0;36m3\u001b[0m\u001b[0;34m,\u001b[0m \u001b[0mmax_depth\u001b[0m\u001b[0;34m=\u001b[0m\u001b[0;36m5\u001b[0m\u001b[0;34m)\u001b[0m\u001b[0;34m\u001b[0m\u001b[0;34m\u001b[0m\u001b[0m\n\u001b[0;32m----> 2\u001b[0;31m \u001b[0mmodel\u001b[0m\u001b[0;34m.\u001b[0m\u001b[0mfit\u001b[0m\u001b[0;34m(\u001b[0m\u001b[0mX_train\u001b[0m\u001b[0;34m,\u001b[0m \u001b[0my_train\u001b[0m\u001b[0;34m)\u001b[0m\u001b[0;34m\u001b[0m\u001b[0;34m\u001b[0m\u001b[0m\n\u001b[0m",
      "\u001b[0;32m~/.pyenv/versions/3.7.3/lib/python3.7/site-packages/sklearn/ensemble/_forest.py\u001b[0m in \u001b[0;36mfit\u001b[0;34m(self, X, y, sample_weight)\u001b[0m\n\u001b[1;32m    390\u001b[0m                     \u001b[0mverbose\u001b[0m\u001b[0;34m=\u001b[0m\u001b[0mself\u001b[0m\u001b[0;34m.\u001b[0m\u001b[0mverbose\u001b[0m\u001b[0;34m,\u001b[0m \u001b[0mclass_weight\u001b[0m\u001b[0;34m=\u001b[0m\u001b[0mself\u001b[0m\u001b[0;34m.\u001b[0m\u001b[0mclass_weight\u001b[0m\u001b[0;34m,\u001b[0m\u001b[0;34m\u001b[0m\u001b[0;34m\u001b[0m\u001b[0m\n\u001b[1;32m    391\u001b[0m                     n_samples_bootstrap=n_samples_bootstrap)\n\u001b[0;32m--> 392\u001b[0;31m                 for i, t in enumerate(trees))\n\u001b[0m\u001b[1;32m    393\u001b[0m \u001b[0;34m\u001b[0m\u001b[0m\n\u001b[1;32m    394\u001b[0m             \u001b[0;31m# Collect newly grown trees\u001b[0m\u001b[0;34m\u001b[0m\u001b[0;34m\u001b[0m\u001b[0;34m\u001b[0m\u001b[0m\n",
      "\u001b[0;32m~/.pyenv/versions/3.7.3/lib/python3.7/site-packages/joblib/parallel.py\u001b[0m in \u001b[0;36m__call__\u001b[0;34m(self, iterable)\u001b[0m\n\u001b[1;32m   1005\u001b[0m                 \u001b[0mself\u001b[0m\u001b[0;34m.\u001b[0m\u001b[0m_iterating\u001b[0m \u001b[0;34m=\u001b[0m \u001b[0mself\u001b[0m\u001b[0;34m.\u001b[0m\u001b[0m_original_iterator\u001b[0m \u001b[0;32mis\u001b[0m \u001b[0;32mnot\u001b[0m \u001b[0;32mNone\u001b[0m\u001b[0;34m\u001b[0m\u001b[0;34m\u001b[0m\u001b[0m\n\u001b[1;32m   1006\u001b[0m \u001b[0;34m\u001b[0m\u001b[0m\n\u001b[0;32m-> 1007\u001b[0;31m             \u001b[0;32mwhile\u001b[0m \u001b[0mself\u001b[0m\u001b[0;34m.\u001b[0m\u001b[0mdispatch_one_batch\u001b[0m\u001b[0;34m(\u001b[0m\u001b[0miterator\u001b[0m\u001b[0;34m)\u001b[0m\u001b[0;34m:\u001b[0m\u001b[0;34m\u001b[0m\u001b[0;34m\u001b[0m\u001b[0m\n\u001b[0m\u001b[1;32m   1008\u001b[0m                 \u001b[0;32mpass\u001b[0m\u001b[0;34m\u001b[0m\u001b[0;34m\u001b[0m\u001b[0m\n\u001b[1;32m   1009\u001b[0m \u001b[0;34m\u001b[0m\u001b[0m\n",
      "\u001b[0;32m~/.pyenv/versions/3.7.3/lib/python3.7/site-packages/joblib/parallel.py\u001b[0m in \u001b[0;36mdispatch_one_batch\u001b[0;34m(self, iterator)\u001b[0m\n\u001b[1;32m    833\u001b[0m                 \u001b[0;32mreturn\u001b[0m \u001b[0;32mFalse\u001b[0m\u001b[0;34m\u001b[0m\u001b[0;34m\u001b[0m\u001b[0m\n\u001b[1;32m    834\u001b[0m             \u001b[0;32melse\u001b[0m\u001b[0;34m:\u001b[0m\u001b[0;34m\u001b[0m\u001b[0;34m\u001b[0m\u001b[0m\n\u001b[0;32m--> 835\u001b[0;31m                 \u001b[0mself\u001b[0m\u001b[0;34m.\u001b[0m\u001b[0m_dispatch\u001b[0m\u001b[0;34m(\u001b[0m\u001b[0mtasks\u001b[0m\u001b[0;34m)\u001b[0m\u001b[0;34m\u001b[0m\u001b[0;34m\u001b[0m\u001b[0m\n\u001b[0m\u001b[1;32m    836\u001b[0m                 \u001b[0;32mreturn\u001b[0m \u001b[0;32mTrue\u001b[0m\u001b[0;34m\u001b[0m\u001b[0;34m\u001b[0m\u001b[0m\n\u001b[1;32m    837\u001b[0m \u001b[0;34m\u001b[0m\u001b[0m\n",
      "\u001b[0;32m~/.pyenv/versions/3.7.3/lib/python3.7/site-packages/joblib/parallel.py\u001b[0m in \u001b[0;36m_dispatch\u001b[0;34m(self, batch)\u001b[0m\n\u001b[1;32m    752\u001b[0m         \u001b[0;32mwith\u001b[0m \u001b[0mself\u001b[0m\u001b[0;34m.\u001b[0m\u001b[0m_lock\u001b[0m\u001b[0;34m:\u001b[0m\u001b[0;34m\u001b[0m\u001b[0;34m\u001b[0m\u001b[0m\n\u001b[1;32m    753\u001b[0m             \u001b[0mjob_idx\u001b[0m \u001b[0;34m=\u001b[0m \u001b[0mlen\u001b[0m\u001b[0;34m(\u001b[0m\u001b[0mself\u001b[0m\u001b[0;34m.\u001b[0m\u001b[0m_jobs\u001b[0m\u001b[0;34m)\u001b[0m\u001b[0;34m\u001b[0m\u001b[0;34m\u001b[0m\u001b[0m\n\u001b[0;32m--> 754\u001b[0;31m             \u001b[0mjob\u001b[0m \u001b[0;34m=\u001b[0m \u001b[0mself\u001b[0m\u001b[0;34m.\u001b[0m\u001b[0m_backend\u001b[0m\u001b[0;34m.\u001b[0m\u001b[0mapply_async\u001b[0m\u001b[0;34m(\u001b[0m\u001b[0mbatch\u001b[0m\u001b[0;34m,\u001b[0m \u001b[0mcallback\u001b[0m\u001b[0;34m=\u001b[0m\u001b[0mcb\u001b[0m\u001b[0;34m)\u001b[0m\u001b[0;34m\u001b[0m\u001b[0;34m\u001b[0m\u001b[0m\n\u001b[0m\u001b[1;32m    755\u001b[0m             \u001b[0;31m# A job can complete so quickly than its callback is\u001b[0m\u001b[0;34m\u001b[0m\u001b[0;34m\u001b[0m\u001b[0;34m\u001b[0m\u001b[0m\n\u001b[1;32m    756\u001b[0m             \u001b[0;31m# called before we get here, causing self._jobs to\u001b[0m\u001b[0;34m\u001b[0m\u001b[0;34m\u001b[0m\u001b[0;34m\u001b[0m\u001b[0m\n",
      "\u001b[0;32m~/.pyenv/versions/3.7.3/lib/python3.7/site-packages/joblib/_parallel_backends.py\u001b[0m in \u001b[0;36mapply_async\u001b[0;34m(self, func, callback)\u001b[0m\n\u001b[1;32m    207\u001b[0m     \u001b[0;32mdef\u001b[0m \u001b[0mapply_async\u001b[0m\u001b[0;34m(\u001b[0m\u001b[0mself\u001b[0m\u001b[0;34m,\u001b[0m \u001b[0mfunc\u001b[0m\u001b[0;34m,\u001b[0m \u001b[0mcallback\u001b[0m\u001b[0;34m=\u001b[0m\u001b[0;32mNone\u001b[0m\u001b[0;34m)\u001b[0m\u001b[0;34m:\u001b[0m\u001b[0;34m\u001b[0m\u001b[0;34m\u001b[0m\u001b[0m\n\u001b[1;32m    208\u001b[0m         \u001b[0;34m\"\"\"Schedule a func to be run\"\"\"\u001b[0m\u001b[0;34m\u001b[0m\u001b[0;34m\u001b[0m\u001b[0m\n\u001b[0;32m--> 209\u001b[0;31m         \u001b[0mresult\u001b[0m \u001b[0;34m=\u001b[0m \u001b[0mImmediateResult\u001b[0m\u001b[0;34m(\u001b[0m\u001b[0mfunc\u001b[0m\u001b[0;34m)\u001b[0m\u001b[0;34m\u001b[0m\u001b[0;34m\u001b[0m\u001b[0m\n\u001b[0m\u001b[1;32m    210\u001b[0m         \u001b[0;32mif\u001b[0m \u001b[0mcallback\u001b[0m\u001b[0;34m:\u001b[0m\u001b[0;34m\u001b[0m\u001b[0;34m\u001b[0m\u001b[0m\n\u001b[1;32m    211\u001b[0m             \u001b[0mcallback\u001b[0m\u001b[0;34m(\u001b[0m\u001b[0mresult\u001b[0m\u001b[0;34m)\u001b[0m\u001b[0;34m\u001b[0m\u001b[0;34m\u001b[0m\u001b[0m\n",
      "\u001b[0;32m~/.pyenv/versions/3.7.3/lib/python3.7/site-packages/joblib/_parallel_backends.py\u001b[0m in \u001b[0;36m__init__\u001b[0;34m(self, batch)\u001b[0m\n\u001b[1;32m    588\u001b[0m         \u001b[0;31m# Don't delay the application, to avoid keeping the input\u001b[0m\u001b[0;34m\u001b[0m\u001b[0;34m\u001b[0m\u001b[0;34m\u001b[0m\u001b[0m\n\u001b[1;32m    589\u001b[0m         \u001b[0;31m# arguments in memory\u001b[0m\u001b[0;34m\u001b[0m\u001b[0;34m\u001b[0m\u001b[0;34m\u001b[0m\u001b[0m\n\u001b[0;32m--> 590\u001b[0;31m         \u001b[0mself\u001b[0m\u001b[0;34m.\u001b[0m\u001b[0mresults\u001b[0m \u001b[0;34m=\u001b[0m \u001b[0mbatch\u001b[0m\u001b[0;34m(\u001b[0m\u001b[0;34m)\u001b[0m\u001b[0;34m\u001b[0m\u001b[0;34m\u001b[0m\u001b[0m\n\u001b[0m\u001b[1;32m    591\u001b[0m \u001b[0;34m\u001b[0m\u001b[0m\n\u001b[1;32m    592\u001b[0m     \u001b[0;32mdef\u001b[0m \u001b[0mget\u001b[0m\u001b[0;34m(\u001b[0m\u001b[0mself\u001b[0m\u001b[0;34m)\u001b[0m\u001b[0;34m:\u001b[0m\u001b[0;34m\u001b[0m\u001b[0;34m\u001b[0m\u001b[0m\n",
      "\u001b[0;32m~/.pyenv/versions/3.7.3/lib/python3.7/site-packages/joblib/parallel.py\u001b[0m in \u001b[0;36m__call__\u001b[0;34m(self)\u001b[0m\n\u001b[1;32m    254\u001b[0m         \u001b[0;32mwith\u001b[0m \u001b[0mparallel_backend\u001b[0m\u001b[0;34m(\u001b[0m\u001b[0mself\u001b[0m\u001b[0;34m.\u001b[0m\u001b[0m_backend\u001b[0m\u001b[0;34m,\u001b[0m \u001b[0mn_jobs\u001b[0m\u001b[0;34m=\u001b[0m\u001b[0mself\u001b[0m\u001b[0;34m.\u001b[0m\u001b[0m_n_jobs\u001b[0m\u001b[0;34m)\u001b[0m\u001b[0;34m:\u001b[0m\u001b[0;34m\u001b[0m\u001b[0;34m\u001b[0m\u001b[0m\n\u001b[1;32m    255\u001b[0m             return [func(*args, **kwargs)\n\u001b[0;32m--> 256\u001b[0;31m                     for func, args, kwargs in self.items]\n\u001b[0m\u001b[1;32m    257\u001b[0m \u001b[0;34m\u001b[0m\u001b[0m\n\u001b[1;32m    258\u001b[0m     \u001b[0;32mdef\u001b[0m \u001b[0m__len__\u001b[0m\u001b[0;34m(\u001b[0m\u001b[0mself\u001b[0m\u001b[0;34m)\u001b[0m\u001b[0;34m:\u001b[0m\u001b[0;34m\u001b[0m\u001b[0;34m\u001b[0m\u001b[0m\n",
      "\u001b[0;32m~/.pyenv/versions/3.7.3/lib/python3.7/site-packages/joblib/parallel.py\u001b[0m in \u001b[0;36m<listcomp>\u001b[0;34m(.0)\u001b[0m\n\u001b[1;32m    254\u001b[0m         \u001b[0;32mwith\u001b[0m \u001b[0mparallel_backend\u001b[0m\u001b[0;34m(\u001b[0m\u001b[0mself\u001b[0m\u001b[0;34m.\u001b[0m\u001b[0m_backend\u001b[0m\u001b[0;34m,\u001b[0m \u001b[0mn_jobs\u001b[0m\u001b[0;34m=\u001b[0m\u001b[0mself\u001b[0m\u001b[0;34m.\u001b[0m\u001b[0m_n_jobs\u001b[0m\u001b[0;34m)\u001b[0m\u001b[0;34m:\u001b[0m\u001b[0;34m\u001b[0m\u001b[0;34m\u001b[0m\u001b[0m\n\u001b[1;32m    255\u001b[0m             return [func(*args, **kwargs)\n\u001b[0;32m--> 256\u001b[0;31m                     for func, args, kwargs in self.items]\n\u001b[0m\u001b[1;32m    257\u001b[0m \u001b[0;34m\u001b[0m\u001b[0m\n\u001b[1;32m    258\u001b[0m     \u001b[0;32mdef\u001b[0m \u001b[0m__len__\u001b[0m\u001b[0;34m(\u001b[0m\u001b[0mself\u001b[0m\u001b[0;34m)\u001b[0m\u001b[0;34m:\u001b[0m\u001b[0;34m\u001b[0m\u001b[0;34m\u001b[0m\u001b[0m\n",
      "\u001b[0;32m~/.pyenv/versions/3.7.3/lib/python3.7/site-packages/sklearn/ensemble/_forest.py\u001b[0m in \u001b[0;36m_parallel_build_trees\u001b[0;34m(tree, forest, X, y, sample_weight, tree_idx, n_trees, verbose, class_weight, n_samples_bootstrap)\u001b[0m\n\u001b[1;32m    166\u001b[0m                                                         indices=indices)\n\u001b[1;32m    167\u001b[0m \u001b[0;34m\u001b[0m\u001b[0m\n\u001b[0;32m--> 168\u001b[0;31m         \u001b[0mtree\u001b[0m\u001b[0;34m.\u001b[0m\u001b[0mfit\u001b[0m\u001b[0;34m(\u001b[0m\u001b[0mX\u001b[0m\u001b[0;34m,\u001b[0m \u001b[0my\u001b[0m\u001b[0;34m,\u001b[0m \u001b[0msample_weight\u001b[0m\u001b[0;34m=\u001b[0m\u001b[0mcurr_sample_weight\u001b[0m\u001b[0;34m,\u001b[0m \u001b[0mcheck_input\u001b[0m\u001b[0;34m=\u001b[0m\u001b[0;32mFalse\u001b[0m\u001b[0;34m)\u001b[0m\u001b[0;34m\u001b[0m\u001b[0;34m\u001b[0m\u001b[0m\n\u001b[0m\u001b[1;32m    169\u001b[0m     \u001b[0;32melse\u001b[0m\u001b[0;34m:\u001b[0m\u001b[0;34m\u001b[0m\u001b[0;34m\u001b[0m\u001b[0m\n\u001b[1;32m    170\u001b[0m         \u001b[0mtree\u001b[0m\u001b[0;34m.\u001b[0m\u001b[0mfit\u001b[0m\u001b[0;34m(\u001b[0m\u001b[0mX\u001b[0m\u001b[0;34m,\u001b[0m \u001b[0my\u001b[0m\u001b[0;34m,\u001b[0m \u001b[0msample_weight\u001b[0m\u001b[0;34m=\u001b[0m\u001b[0msample_weight\u001b[0m\u001b[0;34m,\u001b[0m \u001b[0mcheck_input\u001b[0m\u001b[0;34m=\u001b[0m\u001b[0;32mFalse\u001b[0m\u001b[0;34m)\u001b[0m\u001b[0;34m\u001b[0m\u001b[0;34m\u001b[0m\u001b[0m\n",
      "\u001b[0;32m~/.pyenv/versions/3.7.3/lib/python3.7/site-packages/sklearn/tree/_classes.py\u001b[0m in \u001b[0;36mfit\u001b[0;34m(self, X, y, sample_weight, check_input, X_idx_sorted)\u001b[0m\n\u001b[1;32m   1244\u001b[0m             \u001b[0msample_weight\u001b[0m\u001b[0;34m=\u001b[0m\u001b[0msample_weight\u001b[0m\u001b[0;34m,\u001b[0m\u001b[0;34m\u001b[0m\u001b[0;34m\u001b[0m\u001b[0m\n\u001b[1;32m   1245\u001b[0m             \u001b[0mcheck_input\u001b[0m\u001b[0;34m=\u001b[0m\u001b[0mcheck_input\u001b[0m\u001b[0;34m,\u001b[0m\u001b[0;34m\u001b[0m\u001b[0;34m\u001b[0m\u001b[0m\n\u001b[0;32m-> 1246\u001b[0;31m             X_idx_sorted=X_idx_sorted)\n\u001b[0m\u001b[1;32m   1247\u001b[0m         \u001b[0;32mreturn\u001b[0m \u001b[0mself\u001b[0m\u001b[0;34m\u001b[0m\u001b[0;34m\u001b[0m\u001b[0m\n\u001b[1;32m   1248\u001b[0m \u001b[0;34m\u001b[0m\u001b[0m\n",
      "\u001b[0;32m~/.pyenv/versions/3.7.3/lib/python3.7/site-packages/sklearn/tree/_classes.py\u001b[0m in \u001b[0;36mfit\u001b[0;34m(self, X, y, sample_weight, check_input, X_idx_sorted)\u001b[0m\n\u001b[1;32m    373\u001b[0m                                            min_impurity_split)\n\u001b[1;32m    374\u001b[0m \u001b[0;34m\u001b[0m\u001b[0m\n\u001b[0;32m--> 375\u001b[0;31m         \u001b[0mbuilder\u001b[0m\u001b[0;34m.\u001b[0m\u001b[0mbuild\u001b[0m\u001b[0;34m(\u001b[0m\u001b[0mself\u001b[0m\u001b[0;34m.\u001b[0m\u001b[0mtree_\u001b[0m\u001b[0;34m,\u001b[0m \u001b[0mX\u001b[0m\u001b[0;34m,\u001b[0m \u001b[0my\u001b[0m\u001b[0;34m,\u001b[0m \u001b[0msample_weight\u001b[0m\u001b[0;34m,\u001b[0m \u001b[0mX_idx_sorted\u001b[0m\u001b[0;34m)\u001b[0m\u001b[0;34m\u001b[0m\u001b[0;34m\u001b[0m\u001b[0m\n\u001b[0m\u001b[1;32m    376\u001b[0m \u001b[0;34m\u001b[0m\u001b[0m\n\u001b[1;32m    377\u001b[0m         \u001b[0;32mif\u001b[0m \u001b[0mself\u001b[0m\u001b[0;34m.\u001b[0m\u001b[0mn_outputs_\u001b[0m \u001b[0;34m==\u001b[0m \u001b[0;36m1\u001b[0m \u001b[0;32mand\u001b[0m \u001b[0mis_classifier\u001b[0m\u001b[0;34m(\u001b[0m\u001b[0mself\u001b[0m\u001b[0;34m)\u001b[0m\u001b[0;34m:\u001b[0m\u001b[0;34m\u001b[0m\u001b[0;34m\u001b[0m\u001b[0m\n",
      "\u001b[0;31mKeyboardInterrupt\u001b[0m: "
     ]
    }
   ],
   "source": [
    "#model = RandomForestRegressor(n_estimators=3, max_depth=5)\n",
    "#model.fit(X_train, y_train)"
   ]
  },
  {
   "cell_type": "markdown",
   "metadata": {},
   "source": [
    "### xgboost"
   ]
  },
  {
   "cell_type": "code",
   "execution_count": 107,
   "metadata": {},
   "outputs": [],
   "source": [
    "model = xgb.XGBRegressor(max_depth=6, n_estimators=30)"
   ]
  },
  {
   "cell_type": "code",
   "execution_count": 108,
   "metadata": {
    "scrolled": true
   },
   "outputs": [
    {
     "data": {
      "text/plain": [
       "XGBRegressor(base_score=0.5, booster='gbtree', colsample_bylevel=1,\n",
       "             colsample_bynode=1, colsample_bytree=1, gamma=0, gpu_id=-1,\n",
       "             importance_type='gain', interaction_constraints='',\n",
       "             learning_rate=0.300000012, max_delta_step=0, max_depth=6,\n",
       "             min_child_weight=1, missing=nan, monotone_constraints='()',\n",
       "             n_estimators=30, n_jobs=0, num_parallel_tree=1, random_state=0,\n",
       "             reg_alpha=0, reg_lambda=1, scale_pos_weight=1, subsample=1,\n",
       "             tree_method='exact', validate_parameters=1, verbosity=None)"
      ]
     },
     "execution_count": 108,
     "metadata": {},
     "output_type": "execute_result"
    }
   ],
   "source": [
    "model.fit(X_train, y_train)"
   ]
  },
  {
   "cell_type": "code",
   "execution_count": 109,
   "metadata": {
    "scrolled": true
   },
   "outputs": [
    {
     "data": {
      "text/plain": [
       "array([0.47432747, 0.61705911, 0.54099139, 1.10420203, 2.05072161])"
      ]
     },
     "execution_count": 109,
     "metadata": {},
     "output_type": "execute_result"
    }
   ],
   "source": [
    "scores = cross_val_score(model, X_train, y_train, scoring=\"neg_mean_squared_error\", cv=5)\n",
    "np.sqrt(-scores)"
   ]
  },
  {
   "cell_type": "code",
   "execution_count": 110,
   "metadata": {},
   "outputs": [
    {
     "data": {
      "text/plain": [
       "GridSearchCV(cv=5,\n",
       "             estimator=XGBRegressor(base_score=0.5, booster='gbtree',\n",
       "                                    colsample_bylevel=1, colsample_bynode=1,\n",
       "                                    colsample_bytree=1, gamma=0, gpu_id=-1,\n",
       "                                    importance_type='gain',\n",
       "                                    interaction_constraints='',\n",
       "                                    learning_rate=0.300000012, max_delta_step=0,\n",
       "                                    max_depth=6, min_child_weight=1,\n",
       "                                    missing=nan, monotone_constraints='()',\n",
       "                                    n_estimators=30, n_jobs=0,\n",
       "                                    num_parallel_tree=1, random_state=0,\n",
       "                                    reg_alpha=0, reg_lambda=1,\n",
       "                                    scale_pos_weight=1, subsample=1,\n",
       "                                    tree_method='exact', validate_parameters=1,\n",
       "                                    verbosity=None),\n",
       "             param_grid=[{'max_depth': [6], 'n_estimators': [25, 30, 35]}],\n",
       "             return_train_score=True, scoring='neg_mean_squared_error')"
      ]
     },
     "execution_count": 110,
     "metadata": {},
     "output_type": "execute_result"
    }
   ],
   "source": [
    "param_grid = [\n",
    "    {'n_estimators': [25, 30, 35], 'max_depth': [6]},\n",
    "  ]\n",
    "\n",
    "grid_search = GridSearchCV(model, param_grid, cv=5,\n",
    "                           scoring='neg_mean_squared_error',\n",
    "                           return_train_score=True)\n",
    "grid_search.fit(X_train, y_train)"
   ]
  },
  {
   "cell_type": "code",
   "execution_count": 111,
   "metadata": {},
   "outputs": [
    {
     "data": {
      "text/plain": [
       "{'max_depth': 6, 'n_estimators': 35}"
      ]
     },
     "execution_count": 111,
     "metadata": {},
     "output_type": "execute_result"
    }
   ],
   "source": [
    "model = grid_search.best_estimator_\n",
    "grid_search.best_params_"
   ]
  },
  {
   "cell_type": "code",
   "execution_count": 113,
   "metadata": {},
   "outputs": [
    {
     "data": {
      "text/plain": [
       "XGBRegressor(base_score=0.5, booster='gbtree', colsample_bylevel=1,\n",
       "             colsample_bynode=1, colsample_bytree=1, gamma=0, gpu_id=-1,\n",
       "             importance_type='gain', interaction_constraints='',\n",
       "             learning_rate=0.300000012, max_delta_step=0, max_depth=6,\n",
       "             min_child_weight=1, missing=nan, monotone_constraints='()',\n",
       "             n_estimators=35, n_jobs=0, num_parallel_tree=1, random_state=0,\n",
       "             reg_alpha=0, reg_lambda=1, scale_pos_weight=1, subsample=1,\n",
       "             tree_method='exact', validate_parameters=1, verbosity=None)"
      ]
     },
     "execution_count": 113,
     "metadata": {},
     "output_type": "execute_result"
    }
   ],
   "source": [
    "model.fit(X_train, y_train)"
   ]
  },
  {
   "cell_type": "code",
   "execution_count": 114,
   "metadata": {
    "scrolled": true
   },
   "outputs": [
    {
     "data": {
      "text/plain": [
       "<matplotlib.axes._subplots.AxesSubplot at 0x12945ec50>"
      ]
     },
     "execution_count": 114,
     "metadata": {},
     "output_type": "execute_result"
    },
    {
     "data": {
      "image/png": "[encoded data removed]",
      "text/plain": [
       "<Figure size 720x1008 with 1 Axes>"
      ]
     },
     "metadata": {
      "needs_background": "light"
     },
     "output_type": "display_data"
    }
   ],
   "source": [
    "from xgboost import plot_importance\n",
    "\n",
    "def plot_features(booster, figsize):    \n",
    "    fig, ax = plt.subplots(1,1,figsize=figsize)\n",
    "    return plot_importance(booster=booster, ax=ax)\n",
    "\n",
    "plot_features(model, (10,14))"
   ]
  },
  {
   "cell_type": "markdown",
   "metadata": {},
   "source": [
    "# Submission"
   ]
  },
  {
   "cell_type": "code",
   "execution_count": 67,
   "metadata": {},
   "outputs": [
    {
     "name": "stdout",
     "output_type": "stream",
     "text": [
      "XGBRegressor(base_score=0.5, booster='gbtree', colsample_bylevel=1,\n",
      "             colsample_bynode=1, colsample_bytree=1, gamma=0, gpu_id=-1,\n",
      "             importance_type='gain', interaction_constraints='',\n",
      "             learning_rate=0.300000012, max_delta_step=0, max_depth=6,\n",
      "             min_child_weight=1, missing=nan, monotone_constraints='()',\n",
      "             n_estimators=25, n_jobs=0, num_parallel_tree=1, random_state=0,\n",
      "             reg_alpha=0, reg_lambda=1, scale_pos_weight=1, subsample=1,\n",
      "             tree_method='exact', validate_parameters=1, verbosity=None)\n"
     ]
    }
   ],
   "source": [
    "print(model)"
   ]
  },
  {
   "cell_type": "code",
   "execution_count": 115,
   "metadata": {},
   "outputs": [],
   "source": [
    "y_test = model.predict(X_test)"
   ]
  },
  {
   "cell_type": "code",
   "execution_count": 116,
   "metadata": {},
   "outputs": [],
   "source": [
    "submission = pd.DataFrame({\n",
    "    \"ID\": test.index, \n",
    "    \"item_cnt_month\": y_test\n",
    "})\n",
    "submission.to_csv('submission.csv', index=False)"
   ]
  },
  {
   "cell_type": "code",
   "execution_count": null,
   "metadata": {},
   "outputs": [],
   "source": []
  }
 ],
 "metadata": {
  "kernelspec": {
   "display_name": "Python 3",
   "language": "python",
   "name": "python3"
  },
  "language_info": {
   "codemirror_mode": {
    "name": "ipython",
    "version": 3
   },
   "file_extension": ".py",
   "mimetype": "text/x-python",
   "name": "python",
   "nbconvert_exporter": "python",
   "pygments_lexer": "ipython3",
   "version": "3.7.3"
  }
 },
 "nbformat": 4,
 "nbformat_minor": 4
}
