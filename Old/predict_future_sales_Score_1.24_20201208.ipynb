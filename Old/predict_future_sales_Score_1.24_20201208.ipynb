{
 "cells": [
  {
   "cell_type": "markdown",
   "metadata": {},
   "source": [
    "# Predict Future Sales"
   ]
  },
  {
   "cell_type": "markdown",
   "metadata": {},
   "source": [
    "## Imports"
   ]
  },
  {
   "cell_type": "code",
   "execution_count": 1,
   "metadata": {},
   "outputs": [],
   "source": [
    "import pandas as pd\n",
    "pd.set_option('float_format', '{0:.2f}'.format)\n",
    "\n",
    "import numpy as np\n",
    "from matplotlib import pyplot as plt\n",
    "import seaborn as sns\n",
    "\n",
    "from sklearn.preprocessing import LabelEncoder\n",
    "from sklearn.preprocessing import StandardScaler\n",
    "\n",
    "from sklearn.ensemble import RandomForestRegressor\n",
    "\n",
    "from sklearn.model_selection import cross_val_score\n",
    "\n",
    "from sklearn.metrics import mean_squared_error"
   ]
  },
  {
   "cell_type": "markdown",
   "metadata": {},
   "source": [
    "## Import data"
   ]
  },
  {
   "cell_type": "code",
   "execution_count": 2,
   "metadata": {},
   "outputs": [],
   "source": [
    "train = pd.read_csv(\"data/sales_train.csv\")\n",
    "items = pd.read_csv(\"data/items.csv\")\n",
    "categories = pd.read_csv(\"data/item_categories.csv\")\n",
    "shops = pd.read_csv(\"data/shops.csv\")\n",
    "test = pd.read_csv(\"data/test.csv\")"
   ]
  },
  {
   "cell_type": "code",
   "execution_count": 3,
   "metadata": {},
   "outputs": [],
   "source": [
    "df_train = train.copy()"
   ]
  },
  {
   "cell_type": "markdown",
   "metadata": {},
   "source": [
    "## Data Cleaning"
   ]
  },
  {
   "cell_type": "markdown",
   "metadata": {},
   "source": [
    "### Cleaning the training set"
   ]
  },
  {
   "cell_type": "code",
   "execution_count": 4,
   "metadata": {
    "scrolled": true
   },
   "outputs": [],
   "source": [
    "df_train.rename(columns={'item_cnt_day' : 'item_volume'}, inplace=True)"
   ]
  },
  {
   "cell_type": "code",
   "execution_count": 5,
   "metadata": {
    "scrolled": false
   },
   "outputs": [],
   "source": [
    "# Replace negative price\n",
    "df_train[\"item_price\"] = np.where(df_train.item_price < 0,\n",
    "                            df_train[(df_train.date_block_num==4) & (df_train.shop_id==32) & (df_train.item_id==2973)][\"item_price\"].median(),\n",
    "                            df_train.item_price)"
   ]
  },
  {
   "cell_type": "markdown",
   "metadata": {},
   "source": [
    "#### Remove outliers"
   ]
  },
  {
   "cell_type": "code",
   "execution_count": 6,
   "metadata": {
    "scrolled": false
   },
   "outputs": [
    {
     "data": {
      "image/png": "[encoded data removed]",
      "text/plain": [
       "<Figure size 1440x144 with 1 Axes>"
      ]
     },
     "metadata": {
      "needs_background": "light"
     },
     "output_type": "display_data"
    },
    {
     "data": {
      "image/png": "[encoded data removed]",
      "text/plain": [
       "<Figure size 1440x144 with 1 Axes>"
      ]
     },
     "metadata": {
      "needs_background": "light"
     },
     "output_type": "display_data"
    }
   ],
   "source": [
    "plt.figure(figsize=(20,2))\n",
    "sns.boxplot(df_train.item_price)\n",
    "plt.show()\n",
    "plt.figure(figsize=(20,2))\n",
    "sns.boxplot(df_train.item_volume)\n",
    "plt.show()"
   ]
  },
  {
   "cell_type": "code",
   "execution_count": 7,
   "metadata": {},
   "outputs": [],
   "source": [
    "# Remove outliers\n",
    "df_train = df_train[df_train.item_price < 100000]\n",
    "df_train = df_train[df_train.item_volume < 100]"
   ]
  },
  {
   "cell_type": "code",
   "execution_count": 8,
   "metadata": {
    "scrolled": true
   },
   "outputs": [
    {
     "data": {
      "image/png": "[encoded data removed]",
      "text/plain": [
       "<Figure size 1440x144 with 1 Axes>"
      ]
     },
     "metadata": {
      "needs_background": "light"
     },
     "output_type": "display_data"
    },
    {
     "data": {
      "image/png": "[encoded data removed]",
      "text/plain": [
       "<Figure size 1440x144 with 1 Axes>"
      ]
     },
     "metadata": {
      "needs_background": "light"
     },
     "output_type": "display_data"
    }
   ],
   "source": [
    "plt.figure(figsize=(20,2))\n",
    "sns.boxplot(df_train.item_price)\n",
    "plt.show()\n",
    "plt.figure(figsize=(20,2))\n",
    "sns.boxplot(df_train.item_volume)\n",
    "plt.show()"
   ]
  },
  {
   "cell_type": "markdown",
   "metadata": {},
   "source": [
    "### Group by Month, Shop & Item"
   ]
  },
  {
   "cell_type": "code",
   "execution_count": 9,
   "metadata": {},
   "outputs": [],
   "source": [
    "df_train[\"date\"] = pd.to_datetime(df_train[\"date\"], format='%d.%m.%Y')\n",
    "df_train[\"month\"] = df_train[\"date\"].dt.month\n",
    "df_train[\"year\"] = df_train[\"date\"].dt.year\n",
    "#df_train[\"month_year\"] = df_train[\"date\"].dt.strftime('%Y-%m')\n",
    "#df_train[\"month_year\"] = pd.to_datetime(df_train[\"month_year\"])"
   ]
  },
  {
   "cell_type": "code",
   "execution_count": 10,
   "metadata": {
    "scrolled": true
   },
   "outputs": [],
   "source": [
    "gp = df_train.groupby([\"date_block_num\", \"year\", \"month\", \"shop_id\", \"item_id\"]).agg({'item_volume' : 'sum', 'item_price' : 'mean'}).reset_index()"
   ]
  },
  {
   "cell_type": "code",
   "execution_count": 11,
   "metadata": {
    "scrolled": false
   },
   "outputs": [
    {
     "data": {
      "text/html": [
       "<div>\n",
       "<style scoped>\n",
       "    .dataframe tbody tr th:only-of-type {\n",
       "        vertical-align: middle;\n",
       "    }\n",
       "\n",
       "    .dataframe tbody tr th {\n",
       "        vertical-align: top;\n",
       "    }\n",
       "\n",
       "    .dataframe thead th {\n",
       "        text-align: right;\n",
       "    }\n",
       "</style>\n",
       "<table border=\"1\" class=\"dataframe\">\n",
       "  <thead>\n",
       "    <tr style=\"text-align: right;\">\n",
       "      <th></th>\n",
       "      <th>date_block_num</th>\n",
       "      <th>year</th>\n",
       "      <th>month</th>\n",
       "      <th>shop_id</th>\n",
       "      <th>item_id</th>\n",
       "      <th>item_volume</th>\n",
       "      <th>item_price</th>\n",
       "    </tr>\n",
       "  </thead>\n",
       "  <tbody>\n",
       "    <tr>\n",
       "      <td>0</td>\n",
       "      <td>0</td>\n",
       "      <td>2013</td>\n",
       "      <td>1</td>\n",
       "      <td>0</td>\n",
       "      <td>32</td>\n",
       "      <td>6.00</td>\n",
       "      <td>221.00</td>\n",
       "    </tr>\n",
       "    <tr>\n",
       "      <td>1</td>\n",
       "      <td>0</td>\n",
       "      <td>2013</td>\n",
       "      <td>1</td>\n",
       "      <td>0</td>\n",
       "      <td>33</td>\n",
       "      <td>3.00</td>\n",
       "      <td>347.00</td>\n",
       "    </tr>\n",
       "    <tr>\n",
       "      <td>2</td>\n",
       "      <td>0</td>\n",
       "      <td>2013</td>\n",
       "      <td>1</td>\n",
       "      <td>0</td>\n",
       "      <td>35</td>\n",
       "      <td>1.00</td>\n",
       "      <td>247.00</td>\n",
       "    </tr>\n",
       "    <tr>\n",
       "      <td>3</td>\n",
       "      <td>0</td>\n",
       "      <td>2013</td>\n",
       "      <td>1</td>\n",
       "      <td>0</td>\n",
       "      <td>43</td>\n",
       "      <td>1.00</td>\n",
       "      <td>221.00</td>\n",
       "    </tr>\n",
       "    <tr>\n",
       "      <td>4</td>\n",
       "      <td>0</td>\n",
       "      <td>2013</td>\n",
       "      <td>1</td>\n",
       "      <td>0</td>\n",
       "      <td>51</td>\n",
       "      <td>2.00</td>\n",
       "      <td>128.50</td>\n",
       "    </tr>\n",
       "    <tr>\n",
       "      <td>...</td>\n",
       "      <td>...</td>\n",
       "      <td>...</td>\n",
       "      <td>...</td>\n",
       "      <td>...</td>\n",
       "      <td>...</td>\n",
       "      <td>...</td>\n",
       "      <td>...</td>\n",
       "    </tr>\n",
       "    <tr>\n",
       "      <td>1609112</td>\n",
       "      <td>33</td>\n",
       "      <td>2015</td>\n",
       "      <td>10</td>\n",
       "      <td>59</td>\n",
       "      <td>22087</td>\n",
       "      <td>6.00</td>\n",
       "      <td>119.00</td>\n",
       "    </tr>\n",
       "    <tr>\n",
       "      <td>1609113</td>\n",
       "      <td>33</td>\n",
       "      <td>2015</td>\n",
       "      <td>10</td>\n",
       "      <td>59</td>\n",
       "      <td>22088</td>\n",
       "      <td>2.00</td>\n",
       "      <td>119.00</td>\n",
       "    </tr>\n",
       "    <tr>\n",
       "      <td>1609114</td>\n",
       "      <td>33</td>\n",
       "      <td>2015</td>\n",
       "      <td>10</td>\n",
       "      <td>59</td>\n",
       "      <td>22091</td>\n",
       "      <td>1.00</td>\n",
       "      <td>179.00</td>\n",
       "    </tr>\n",
       "    <tr>\n",
       "      <td>1609115</td>\n",
       "      <td>33</td>\n",
       "      <td>2015</td>\n",
       "      <td>10</td>\n",
       "      <td>59</td>\n",
       "      <td>22100</td>\n",
       "      <td>1.00</td>\n",
       "      <td>629.00</td>\n",
       "    </tr>\n",
       "    <tr>\n",
       "      <td>1609116</td>\n",
       "      <td>33</td>\n",
       "      <td>2015</td>\n",
       "      <td>10</td>\n",
       "      <td>59</td>\n",
       "      <td>22102</td>\n",
       "      <td>1.00</td>\n",
       "      <td>1250.00</td>\n",
       "    </tr>\n",
       "  </tbody>\n",
       "</table>\n",
       "<p>1609117 rows × 7 columns</p>\n",
       "</div>"
      ],
      "text/plain": [
       "         date_block_num  year  month  shop_id  item_id  item_volume  \\\n",
       "0                     0  2013      1        0       32         6.00   \n",
       "1                     0  2013      1        0       33         3.00   \n",
       "2                     0  2013      1        0       35         1.00   \n",
       "3                     0  2013      1        0       43         1.00   \n",
       "4                     0  2013      1        0       51         2.00   \n",
       "...                 ...   ...    ...      ...      ...          ...   \n",
       "1609112              33  2015     10       59    22087         6.00   \n",
       "1609113              33  2015     10       59    22088         2.00   \n",
       "1609114              33  2015     10       59    22091         1.00   \n",
       "1609115              33  2015     10       59    22100         1.00   \n",
       "1609116              33  2015     10       59    22102         1.00   \n",
       "\n",
       "         item_price  \n",
       "0            221.00  \n",
       "1            347.00  \n",
       "2            247.00  \n",
       "3            221.00  \n",
       "4            128.50  \n",
       "...             ...  \n",
       "1609112      119.00  \n",
       "1609113      119.00  \n",
       "1609114      179.00  \n",
       "1609115      629.00  \n",
       "1609116     1250.00  \n",
       "\n",
       "[1609117 rows x 7 columns]"
      ]
     },
     "execution_count": 11,
     "metadata": {},
     "output_type": "execute_result"
    }
   ],
   "source": [
    "gp"
   ]
  },
  {
   "cell_type": "code",
   "execution_count": 12,
   "metadata": {},
   "outputs": [
    {
     "data": {
      "text/html": [
       "<div>\n",
       "<style scoped>\n",
       "    .dataframe tbody tr th:only-of-type {\n",
       "        vertical-align: middle;\n",
       "    }\n",
       "\n",
       "    .dataframe tbody tr th {\n",
       "        vertical-align: top;\n",
       "    }\n",
       "\n",
       "    .dataframe thead th {\n",
       "        text-align: right;\n",
       "    }\n",
       "</style>\n",
       "<table border=\"1\" class=\"dataframe\">\n",
       "  <thead>\n",
       "    <tr style=\"text-align: right;\">\n",
       "      <th></th>\n",
       "      <th>date</th>\n",
       "      <th>date_block_num</th>\n",
       "      <th>shop_id</th>\n",
       "      <th>item_id</th>\n",
       "      <th>item_price</th>\n",
       "      <th>item_volume</th>\n",
       "      <th>month</th>\n",
       "      <th>year</th>\n",
       "    </tr>\n",
       "  </thead>\n",
       "  <tbody>\n",
       "    <tr>\n",
       "      <td>32745</td>\n",
       "      <td>2013-01-02</td>\n",
       "      <td>0</td>\n",
       "      <td>2</td>\n",
       "      <td>5643</td>\n",
       "      <td>2385.21</td>\n",
       "      <td>-1.00</td>\n",
       "      <td>1</td>\n",
       "      <td>2013</td>\n",
       "    </tr>\n",
       "    <tr>\n",
       "      <td>32746</td>\n",
       "      <td>2013-01-06</td>\n",
       "      <td>0</td>\n",
       "      <td>2</td>\n",
       "      <td>5643</td>\n",
       "      <td>2390.00</td>\n",
       "      <td>1.00</td>\n",
       "      <td>1</td>\n",
       "      <td>2013</td>\n",
       "    </tr>\n",
       "  </tbody>\n",
       "</table>\n",
       "</div>"
      ],
      "text/plain": [
       "            date  date_block_num  shop_id  item_id  item_price  item_volume  \\\n",
       "32745 2013-01-02               0        2     5643     2385.21        -1.00   \n",
       "32746 2013-01-06               0        2     5643     2390.00         1.00   \n",
       "\n",
       "       month  year  \n",
       "32745      1  2013  \n",
       "32746      1  2013  "
      ]
     },
     "execution_count": 12,
     "metadata": {},
     "output_type": "execute_result"
    }
   ],
   "source": [
    "# VOLUME CAN BE 0 (returns are negative)\n",
    "df_train[(df_train.item_id==5643) & (df_train.date_block_num==0) & (df_train.shop_id==2)]"
   ]
  },
  {
   "cell_type": "markdown",
   "metadata": {},
   "source": [
    "### Prepare test set and concatenate with training set"
   ]
  },
  {
   "cell_type": "code",
   "execution_count": 13,
   "metadata": {},
   "outputs": [],
   "source": [
    "df_test = test.copy()"
   ]
  },
  {
   "cell_type": "code",
   "execution_count": 14,
   "metadata": {},
   "outputs": [],
   "source": [
    "df_test[\"date_block_num\"] = 34\n",
    "df_test[\"year\"] = 2015\n",
    "df_test[\"month\"] = 11\n",
    "df_test[\"item_volume\"] = 0\n",
    "df_test[\"item_price\"] = 0"
   ]
  },
  {
   "cell_type": "code",
   "execution_count": 15,
   "metadata": {},
   "outputs": [],
   "source": [
    "df_test = df_test[[\"date_block_num\", \"year\", \"month\", \"shop_id\", \"item_id\", \"item_volume\", \"item_price\"]]"
   ]
  },
  {
   "cell_type": "code",
   "execution_count": 16,
   "metadata": {},
   "outputs": [],
   "source": [
    "df = pd.concat([gp, df_test], ignore_index=True)"
   ]
  },
  {
   "cell_type": "code",
   "execution_count": 17,
   "metadata": {},
   "outputs": [],
   "source": [
    "df[\"revenue\"] = df[\"item_volume\"] * df[\"item_price\"]"
   ]
  },
  {
   "cell_type": "code",
   "execution_count": 18,
   "metadata": {},
   "outputs": [],
   "source": [
    "def downcast_dtypes(df):\n",
    "    float_cols = [c for c in df if df[c].dtype == \"float64\"]\n",
    "    int_cols = [c for c in df if df[c].dtype in [\"int64\", \"int32\"]]\n",
    "    df[float_cols] = df[float_cols].astype(np.float32)\n",
    "    df[int_cols] = df[int_cols].astype(np.int16)\n",
    "    return df\n",
    "\n",
    "df = downcast_dtypes(df)"
   ]
  },
  {
   "cell_type": "code",
   "execution_count": 19,
   "metadata": {},
   "outputs": [
    {
     "name": "stdout",
     "output_type": "stream",
     "text": [
      "<class 'pandas.core.frame.DataFrame'>\n",
      "RangeIndex: 1823317 entries, 0 to 1823316\n",
      "Data columns (total 8 columns):\n",
      "date_block_num    int16\n",
      "year              int16\n",
      "month             int16\n",
      "shop_id           int16\n",
      "item_id           int16\n",
      "item_volume       float32\n",
      "item_price        float32\n",
      "revenue           float32\n",
      "dtypes: float32(3), int16(5)\n",
      "memory usage: 38.3 MB\n"
     ]
    }
   ],
   "source": [
    "df.info()"
   ]
  },
  {
   "cell_type": "markdown",
   "metadata": {},
   "source": [
    "### Prepare Shops & Categories"
   ]
  },
  {
   "cell_type": "code",
   "execution_count": 20,
   "metadata": {},
   "outputs": [],
   "source": [
    "shops['city'] = shops['shop_name'].str.split(' ').map(lambda x: x[0])\n",
    "shops['city_code'] = LabelEncoder().fit_transform(shops['city'])\n",
    "shops = shops[[\"shop_id\", \"city_code\"]]"
   ]
  },
  {
   "cell_type": "code",
   "execution_count": 21,
   "metadata": {},
   "outputs": [],
   "source": [
    "categories['split'] = categories['item_category_name'].str.split('-')\n",
    "categories['cat'] = categories['split'].map(lambda x: x[0].strip())\n",
    "categories['cat_code'] = LabelEncoder().fit_transform(categories['cat'])\n",
    "# if subcategory is nan then category\n",
    "categories['subcat'] = categories['split'].map(lambda x: x[1].strip() if len(x) > 1 else x[0].strip())\n",
    "categories['subcat_code'] = LabelEncoder().fit_transform(categories['subcat'])\n",
    "categories = categories[[\"item_category_id\", \"cat_code\", \"subcat_code\"]]"
   ]
  },
  {
   "cell_type": "code",
   "execution_count": 22,
   "metadata": {},
   "outputs": [],
   "source": [
    "items.drop(columns=[\"item_name\"], axis=1, inplace=True)"
   ]
  },
  {
   "cell_type": "markdown",
   "metadata": {},
   "source": [
    "### Merge & process dates"
   ]
  },
  {
   "cell_type": "code",
   "execution_count": 23,
   "metadata": {},
   "outputs": [],
   "source": [
    "full_data = pd.merge(df, items, on=[\"item_id\"], how='left')\n",
    "full_data = pd.merge(full_data, categories, on=\"item_category_id\", how='left')\n",
    "full_data = pd.merge(full_data, shops, on=\"shop_id\", how='left')"
   ]
  },
  {
   "cell_type": "code",
   "execution_count": 24,
   "metadata": {},
   "outputs": [],
   "source": [
    "df = full_data.copy()"
   ]
  },
  {
   "cell_type": "code",
   "execution_count": 25,
   "metadata": {
    "scrolled": false
   },
   "outputs": [
    {
     "data": {
      "text/html": [
       "<div>\n",
       "<style scoped>\n",
       "    .dataframe tbody tr th:only-of-type {\n",
       "        vertical-align: middle;\n",
       "    }\n",
       "\n",
       "    .dataframe tbody tr th {\n",
       "        vertical-align: top;\n",
       "    }\n",
       "\n",
       "    .dataframe thead th {\n",
       "        text-align: right;\n",
       "    }\n",
       "</style>\n",
       "<table border=\"1\" class=\"dataframe\">\n",
       "  <thead>\n",
       "    <tr style=\"text-align: right;\">\n",
       "      <th></th>\n",
       "      <th>date_block_num</th>\n",
       "      <th>year</th>\n",
       "      <th>month</th>\n",
       "      <th>shop_id</th>\n",
       "      <th>item_id</th>\n",
       "      <th>item_volume</th>\n",
       "      <th>item_price</th>\n",
       "      <th>revenue</th>\n",
       "      <th>item_category_id</th>\n",
       "      <th>cat_code</th>\n",
       "      <th>subcat_code</th>\n",
       "      <th>city_code</th>\n",
       "    </tr>\n",
       "  </thead>\n",
       "  <tbody>\n",
       "    <tr>\n",
       "      <td>0</td>\n",
       "      <td>0</td>\n",
       "      <td>2013</td>\n",
       "      <td>1</td>\n",
       "      <td>0</td>\n",
       "      <td>32</td>\n",
       "      <td>6.00</td>\n",
       "      <td>221.00</td>\n",
       "      <td>1326.00</td>\n",
       "      <td>40</td>\n",
       "      <td>11</td>\n",
       "      <td>4</td>\n",
       "      <td>0</td>\n",
       "    </tr>\n",
       "    <tr>\n",
       "      <td>1</td>\n",
       "      <td>0</td>\n",
       "      <td>2013</td>\n",
       "      <td>1</td>\n",
       "      <td>0</td>\n",
       "      <td>33</td>\n",
       "      <td>3.00</td>\n",
       "      <td>347.00</td>\n",
       "      <td>1041.00</td>\n",
       "      <td>37</td>\n",
       "      <td>11</td>\n",
       "      <td>1</td>\n",
       "      <td>0</td>\n",
       "    </tr>\n",
       "    <tr>\n",
       "      <td>2</td>\n",
       "      <td>0</td>\n",
       "      <td>2013</td>\n",
       "      <td>1</td>\n",
       "      <td>0</td>\n",
       "      <td>35</td>\n",
       "      <td>1.00</td>\n",
       "      <td>247.00</td>\n",
       "      <td>247.00</td>\n",
       "      <td>40</td>\n",
       "      <td>11</td>\n",
       "      <td>4</td>\n",
       "      <td>0</td>\n",
       "    </tr>\n",
       "    <tr>\n",
       "      <td>3</td>\n",
       "      <td>0</td>\n",
       "      <td>2013</td>\n",
       "      <td>1</td>\n",
       "      <td>0</td>\n",
       "      <td>43</td>\n",
       "      <td>1.00</td>\n",
       "      <td>221.00</td>\n",
       "      <td>221.00</td>\n",
       "      <td>40</td>\n",
       "      <td>11</td>\n",
       "      <td>4</td>\n",
       "      <td>0</td>\n",
       "    </tr>\n",
       "    <tr>\n",
       "      <td>4</td>\n",
       "      <td>0</td>\n",
       "      <td>2013</td>\n",
       "      <td>1</td>\n",
       "      <td>0</td>\n",
       "      <td>51</td>\n",
       "      <td>2.00</td>\n",
       "      <td>128.50</td>\n",
       "      <td>257.00</td>\n",
       "      <td>57</td>\n",
       "      <td>13</td>\n",
       "      <td>8</td>\n",
       "      <td>0</td>\n",
       "    </tr>\n",
       "    <tr>\n",
       "      <td>...</td>\n",
       "      <td>...</td>\n",
       "      <td>...</td>\n",
       "      <td>...</td>\n",
       "      <td>...</td>\n",
       "      <td>...</td>\n",
       "      <td>...</td>\n",
       "      <td>...</td>\n",
       "      <td>...</td>\n",
       "      <td>...</td>\n",
       "      <td>...</td>\n",
       "      <td>...</td>\n",
       "      <td>...</td>\n",
       "    </tr>\n",
       "    <tr>\n",
       "      <td>1823312</td>\n",
       "      <td>34</td>\n",
       "      <td>2015</td>\n",
       "      <td>11</td>\n",
       "      <td>45</td>\n",
       "      <td>18454</td>\n",
       "      <td>0.00</td>\n",
       "      <td>0.00</td>\n",
       "      <td>0.00</td>\n",
       "      <td>55</td>\n",
       "      <td>13</td>\n",
       "      <td>2</td>\n",
       "      <td>21</td>\n",
       "    </tr>\n",
       "    <tr>\n",
       "      <td>1823313</td>\n",
       "      <td>34</td>\n",
       "      <td>2015</td>\n",
       "      <td>11</td>\n",
       "      <td>45</td>\n",
       "      <td>16188</td>\n",
       "      <td>0.00</td>\n",
       "      <td>0.00</td>\n",
       "      <td>0.00</td>\n",
       "      <td>64</td>\n",
       "      <td>14</td>\n",
       "      <td>42</td>\n",
       "      <td>21</td>\n",
       "    </tr>\n",
       "    <tr>\n",
       "      <td>1823314</td>\n",
       "      <td>34</td>\n",
       "      <td>2015</td>\n",
       "      <td>11</td>\n",
       "      <td>45</td>\n",
       "      <td>15757</td>\n",
       "      <td>0.00</td>\n",
       "      <td>0.00</td>\n",
       "      <td>0.00</td>\n",
       "      <td>55</td>\n",
       "      <td>13</td>\n",
       "      <td>2</td>\n",
       "      <td>21</td>\n",
       "    </tr>\n",
       "    <tr>\n",
       "      <td>1823315</td>\n",
       "      <td>34</td>\n",
       "      <td>2015</td>\n",
       "      <td>11</td>\n",
       "      <td>45</td>\n",
       "      <td>19648</td>\n",
       "      <td>0.00</td>\n",
       "      <td>0.00</td>\n",
       "      <td>0.00</td>\n",
       "      <td>40</td>\n",
       "      <td>11</td>\n",
       "      <td>4</td>\n",
       "      <td>21</td>\n",
       "    </tr>\n",
       "    <tr>\n",
       "      <td>1823316</td>\n",
       "      <td>34</td>\n",
       "      <td>2015</td>\n",
       "      <td>11</td>\n",
       "      <td>45</td>\n",
       "      <td>969</td>\n",
       "      <td>0.00</td>\n",
       "      <td>0.00</td>\n",
       "      <td>0.00</td>\n",
       "      <td>37</td>\n",
       "      <td>11</td>\n",
       "      <td>1</td>\n",
       "      <td>21</td>\n",
       "    </tr>\n",
       "  </tbody>\n",
       "</table>\n",
       "<p>1823317 rows × 12 columns</p>\n",
       "</div>"
      ],
      "text/plain": [
       "         date_block_num  year  month  shop_id  item_id  item_volume  \\\n",
       "0                     0  2013      1        0       32         6.00   \n",
       "1                     0  2013      1        0       33         3.00   \n",
       "2                     0  2013      1        0       35         1.00   \n",
       "3                     0  2013      1        0       43         1.00   \n",
       "4                     0  2013      1        0       51         2.00   \n",
       "...                 ...   ...    ...      ...      ...          ...   \n",
       "1823312              34  2015     11       45    18454         0.00   \n",
       "1823313              34  2015     11       45    16188         0.00   \n",
       "1823314              34  2015     11       45    15757         0.00   \n",
       "1823315              34  2015     11       45    19648         0.00   \n",
       "1823316              34  2015     11       45      969         0.00   \n",
       "\n",
       "         item_price  revenue  item_category_id  cat_code  subcat_code  \\\n",
       "0            221.00  1326.00                40        11            4   \n",
       "1            347.00  1041.00                37        11            1   \n",
       "2            247.00   247.00                40        11            4   \n",
       "3            221.00   221.00                40        11            4   \n",
       "4            128.50   257.00                57        13            8   \n",
       "...             ...      ...               ...       ...          ...   \n",
       "1823312        0.00     0.00                55        13            2   \n",
       "1823313        0.00     0.00                64        14           42   \n",
       "1823314        0.00     0.00                55        13            2   \n",
       "1823315        0.00     0.00                40        11            4   \n",
       "1823316        0.00     0.00                37        11            1   \n",
       "\n",
       "         city_code  \n",
       "0                0  \n",
       "1                0  \n",
       "2                0  \n",
       "3                0  \n",
       "4                0  \n",
       "...            ...  \n",
       "1823312         21  \n",
       "1823313         21  \n",
       "1823314         21  \n",
       "1823315         21  \n",
       "1823316         21  \n",
       "\n",
       "[1823317 rows x 12 columns]"
      ]
     },
     "execution_count": 25,
     "metadata": {},
     "output_type": "execute_result"
    }
   ],
   "source": [
    "df"
   ]
  },
  {
   "cell_type": "markdown",
   "metadata": {},
   "source": [
    "### KPIs"
   ]
  },
  {
   "cell_type": "code",
   "execution_count": 26,
   "metadata": {},
   "outputs": [],
   "source": [
    "def _add_kpi(df, index_columns, col_name, kpi, agg, lag=0):\n",
    "    temp = df.groupby(index_columns).agg({ kpi : agg}).reset_index()\n",
    "    temp[\"date_block_num\"] = temp[\"date_block_num\"] + lag\n",
    "    if lag==0:\n",
    "        lag_str = \"\"\n",
    "    else:\n",
    "        lag_str = \"_\" + str(lag)\n",
    "    temp = temp.rename(columns={ kpi : (col_name + lag_str) })\n",
    "    df = pd.merge(df, temp, how='left', on = index_columns)\n",
    "    # Avoid 0 volume\n",
    "    df[col_name + lag_str] = np.where(df[col_name + lag_str]==0, 1, df[col_name + lag_str])\n",
    "    if lag!=0:\n",
    "        df[col_name + lag_str + \"_trend\"] = \\\n",
    "        (df[\"item_volume\"] - df[col_name + lag_str]) / df[col_name + lag_str]\n",
    "    return df"
   ]
  },
  {
   "cell_type": "code",
   "execution_count": 27,
   "metadata": {},
   "outputs": [],
   "source": [
    "def _add_lag_item(df, lag=0):\n",
    "    temp = df[[\"date_block_num\", \"item_id\", \"shop_id\", \"item_volume\"]]\n",
    "    temp[\"date_block_num\"] = temp[\"date_block_num\"] + lag   \n",
    "    temp = temp.rename(columns={ \"item_volume\" : (\"item_volume_\" + str(lag)) })\n",
    "    df = pd.merge(df, temp, how='left', on = [\"date_block_num\", \"shop_id\", \"item_id\"])\n",
    "    # Avoid 0 volume\n",
    "    df[\"item_volume_\" + str(lag)] = np.where(df[\"item_volume_\" + str(lag)]==0, 1, df[\"item_volume_\" + str(lag)])\n",
    "    df[\"item_volume_\" + str(lag) + \"_trend\"] = \\\n",
    "    (df[\"item_volume\"] - df[\"item_volume_\" + str(lag)]) / df[\"item_volume_\" + str(lag)]\n",
    "    return df "
   ]
  },
  {
   "cell_type": "markdown",
   "metadata": {},
   "source": [
    "#### Sum"
   ]
  },
  {
   "cell_type": "code",
   "execution_count": 28,
   "metadata": {},
   "outputs": [],
   "source": [
    "# Sum of item_volume groupby month\n",
    "df = _add_kpi(df, [\"date_block_num\"], \"sum_volume_month\", \"item_volume\", \"sum\")\n",
    "# Sum of item_volume groupby month, shop\n",
    "df = _add_kpi(df, [\"date_block_num\", \"shop_id\"], \"sum_volume_month_shop\", \"item_volume\", \"sum\")\n",
    "# Sum of item_volume groupby month, shop, category\n",
    "df = _add_kpi(df, [\"date_block_num\", \"shop_id\", \"item_category_id\"], \"sum_volume_month_shop_category\", \"item_volume\", \"sum\")"
   ]
  },
  {
   "cell_type": "markdown",
   "metadata": {},
   "source": [
    "#### Mean"
   ]
  },
  {
   "cell_type": "code",
   "execution_count": 29,
   "metadata": {},
   "outputs": [],
   "source": [
    "# Mean of item_volume groupby month\n",
    "df = _add_kpi(df, [\"date_block_num\"], \"mean_volume_month\", \"item_volume\", \"mean\")\n",
    "# Mean of item_volume groupby month, shop\n",
    "df = _add_kpi(df, [\"date_block_num\", \"shop_id\"], \"mean_volume_month_shop\", \"item_volume\", \"mean\")\n",
    "# Mean of item_volume groupby month, shop, category\n",
    "df = _add_kpi(df, [\"date_block_num\", \"shop_id\", \"item_category_id\"], \"mean_volume_month_shop_category\", \"item_volume\", \"mean\")"
   ]
  },
  {
   "cell_type": "markdown",
   "metadata": {},
   "source": [
    "#### Lags"
   ]
  },
  {
   "cell_type": "code",
   "execution_count": 30,
   "metadata": {},
   "outputs": [],
   "source": [
    "# Lag 1 month Sum of item_volume groupby month\n",
    "df = _add_kpi(df, [\"date_block_num\"], \"sum_volume_month\", \"item_volume\", \"sum\", 1)\n",
    "# Lag 12 months Sum of item_volume groupby month\n",
    "df = _add_kpi(df, [\"date_block_num\"], \"sum_volume_month\", \"item_volume\", \"sum\", 12)\n",
    "# Lag 1 month Sum of item_volume groupby month, shop\n",
    "df = _add_kpi(df, [\"date_block_num\", \"shop_id\"], \"sum_volume_month_shop\", \"item_volume\", \"sum\", 1)\n",
    "# Lag 12 months Sum of item_volume groupby month, shop\n",
    "df = _add_kpi(df, [\"date_block_num\", \"shop_id\"], \"sum_volume_month_shop\", \"item_volume\", \"sum\", 12)"
   ]
  },
  {
   "cell_type": "code",
   "execution_count": 31,
   "metadata": {
    "scrolled": false
   },
   "outputs": [
    {
     "name": "stderr",
     "output_type": "stream",
     "text": [
      "c:\\users\\traouz\\appdata\\local\\programs\\python\\python37\\lib\\site-packages\\ipykernel_launcher.py:3: SettingWithCopyWarning: \n",
      "A value is trying to be set on a copy of a slice from a DataFrame.\n",
      "Try using .loc[row_indexer,col_indexer] = value instead\n",
      "\n",
      "See the caveats in the documentation: http://pandas.pydata.org/pandas-docs/stable/user_guide/indexing.html#returning-a-view-versus-a-copy\n",
      "  This is separate from the ipykernel package so we can avoid doing imports until\n"
     ]
    }
   ],
   "source": [
    "# Lag 1 month Sum of item_volume\n",
    "df = _add_lag_item(df, 1)\n",
    "# Lag 12 month Sum of item_volume\n",
    "df = _add_lag_item(df, 12)"
   ]
  },
  {
   "cell_type": "code",
   "execution_count": 32,
   "metadata": {},
   "outputs": [
    {
     "name": "stdout",
     "output_type": "stream",
     "text": [
      "<class 'pandas.core.frame.DataFrame'>\n",
      "Int64Index: 1823317 entries, 0 to 1823316\n",
      "Data columns (total 30 columns):\n",
      "date_block_num                     int16\n",
      "year                               int16\n",
      "month                              int16\n",
      "shop_id                            int16\n",
      "item_id                            int16\n",
      "item_volume                        float32\n",
      "item_price                         float32\n",
      "revenue                            float32\n",
      "item_category_id                   int64\n",
      "cat_code                           int32\n",
      "subcat_code                        int32\n",
      "city_code                          int32\n",
      "sum_volume_month                   float32\n",
      "sum_volume_month_shop              float32\n",
      "sum_volume_month_shop_category     float32\n",
      "mean_volume_month                  float32\n",
      "mean_volume_month_shop             float32\n",
      "mean_volume_month_shop_category    float32\n",
      "sum_volume_month_1                 float32\n",
      "sum_volume_month_1_trend           float32\n",
      "sum_volume_month_12                float32\n",
      "sum_volume_month_12_trend          float32\n",
      "sum_volume_month_shop_1            float32\n",
      "sum_volume_month_shop_1_trend      float32\n",
      "sum_volume_month_shop_12           float32\n",
      "sum_volume_month_shop_12_trend     float32\n",
      "item_volume_1                      float32\n",
      "item_volume_1_trend                float32\n",
      "item_volume_12                     float32\n",
      "item_volume_12_trend               float32\n",
      "dtypes: float32(21), int16(5), int32(3), int64(1)\n",
      "memory usage: 212.1 MB\n"
     ]
    }
   ],
   "source": [
    "df.info()"
   ]
  },
  {
   "cell_type": "markdown",
   "metadata": {},
   "source": [
    "# Model"
   ]
  },
  {
   "cell_type": "code",
   "execution_count": 33,
   "metadata": {},
   "outputs": [],
   "source": [
    "df = df.fillna(0)"
   ]
  },
  {
   "cell_type": "code",
   "execution_count": 34,
   "metadata": {},
   "outputs": [],
   "source": [
    "X_train = df[df.date_block_num.isin(range(1,34))].drop(columns=[\"item_volume\"])\n",
    "y_train = df[df.date_block_num.isin(range(1,34))][\"item_volume\"]\n",
    "\n",
    "#X_val = df[df.date_block_num==33].drop(columns=[\"item_volume\"])\n",
    "#y_val = df[df.date_block_num==33][[\"item_volume\"]]\n",
    "\n",
    "X_test = df[df.date_block_num==34].drop(columns=[\"item_volume\"])"
   ]
  },
  {
   "cell_type": "code",
   "execution_count": 84,
   "metadata": {},
   "outputs": [],
   "source": [
    "#columns_to_del = [\"city_code\", \"cat_code\", \"item_category_id\", ]\n",
    "#X_train.drop(columns=columns_to_del, inplace=True)\n",
    "#X_test.drop(columns=columns_to_del, inplace=True)"
   ]
  },
  {
   "cell_type": "code",
   "execution_count": 35,
   "metadata": {},
   "outputs": [],
   "source": [
    "scaler = StandardScaler()\n",
    "X_train = scaler.fit_transform(X_train)"
   ]
  },
  {
   "cell_type": "markdown",
   "metadata": {},
   "source": [
    "#### Random Forest"
   ]
  },
  {
   "cell_type": "code",
   "execution_count": 36,
   "metadata": {},
   "outputs": [
    {
     "data": {
      "text/plain": [
       "RandomForestRegressor(max_depth=8, n_estimators=5)"
      ]
     },
     "execution_count": 36,
     "metadata": {},
     "output_type": "execute_result"
    }
   ],
   "source": [
    "model = RandomForestRegressor(n_estimators=5, max_depth=8)\n",
    "model.fit(X_train, y_train)"
   ]
  },
  {
   "cell_type": "code",
   "execution_count": 37,
   "metadata": {},
   "outputs": [
    {
     "data": {
      "text/plain": [
       "0.46214654362638685"
      ]
     },
     "execution_count": 37,
     "metadata": {},
     "output_type": "execute_result"
    }
   ],
   "source": [
    "np.sqrt(mean_squared_error(y_train, model.predict(X_train)))"
   ]
  },
  {
   "cell_type": "code",
   "execution_count": 38,
   "metadata": {},
   "outputs": [
    {
     "data": {
      "text/plain": [
       "array([0.64155819, 0.93802729, 0.61761882, 1.24117695, 2.62755528])"
      ]
     },
     "execution_count": 38,
     "metadata": {},
     "output_type": "execute_result"
    }
   ],
   "source": [
    "scores = cross_val_score(model, X_train, y_train, scoring=\"neg_mean_squared_error\", cv=5)\n",
    "np.sqrt(-scores)"
   ]
  },
  {
   "cell_type": "code",
   "execution_count": null,
   "metadata": {},
   "outputs": [],
   "source": [
    "# RMSE\n",
    "#cross_val_score(model, X_train, y_train, scoring=\"neg_root_mean_squared_error\", cv=5)"
   ]
  },
  {
   "cell_type": "code",
   "execution_count": 39,
   "metadata": {},
   "outputs": [],
   "source": [
    "def plot_feature_importance(importance,names,model_type):\n",
    "\n",
    "    #Create arrays from feature importance and feature names\n",
    "    feature_importance = np.array(importance)\n",
    "    feature_names = np.array(names)\n",
    "\n",
    "    \n",
    "def plot_feature_importance(importance,names,model_type):\n",
    "\n",
    "    #Create arrays from feature importance and feature names\n",
    "    feature_importance = np.array(importance)\n",
    "    feature_names = np.array(names)\n",
    "\n",
    "    #Create a DataFrame using a Dictionary\n",
    "    data={'feature_names':feature_names,'feature_importance':feature_importance}\n",
    "    fi_df = pd.DataFrame(data)\n",
    "\n",
    "    #Sort the DataFrame in order decreasing feature importance\n",
    "    fi_df.sort_values(by=['feature_importance'], ascending=False,inplace=True)\n",
    "\n",
    "    #Define size of bar plot\n",
    "    plt.figure(figsize=(10,8))\n",
    "    #Plot Searborn bar chart\n",
    "    sns.barplot(x=fi_df['feature_importance'], y=fi_df['feature_names'])\n",
    "    #Add chart labels\n",
    "    plt.title(model_type + 'FEATURE IMPORTANCE')\n",
    "    plt.xlabel('FEATURE IMPORTANCE')\n",
    "    plt.ylabel('FEATURE NAMES')"
   ]
  },
  {
   "cell_type": "code",
   "execution_count": 40,
   "metadata": {
    "scrolled": true
   },
   "outputs": [
    {
     "data": {
      "image/png": "[encoded data removed]",
      "text/plain": [
       "<Figure size 720x576 with 1 Axes>"
      ]
     },
     "metadata": {
      "needs_background": "light"
     },
     "output_type": "display_data"
    }
   ],
   "source": [
    "plot_feature_importance(model.feature_importances_, df.drop(columns=[\"item_volume\"]).columns,'RANDOM FOREST')"
   ]
  },
  {
   "cell_type": "markdown",
   "metadata": {},
   "source": [
    "#### XGBoost"
   ]
  },
  {
   "cell_type": "code",
   "execution_count": 36,
   "metadata": {},
   "outputs": [],
   "source": [
    "import xgboost as xgb"
   ]
  },
  {
   "cell_type": "code",
   "execution_count": 37,
   "metadata": {},
   "outputs": [],
   "source": [
    "xgb_model = xgb.XGBRegressor(max_depth=8, n_estimators=30)"
   ]
  },
  {
   "cell_type": "code",
   "execution_count": 38,
   "metadata": {},
   "outputs": [
    {
     "data": {
      "text/plain": [
       "XGBRegressor(base_score=0.5, booster=None, colsample_bylevel=1,\n",
       "             colsample_bynode=1, colsample_bytree=1, gamma=0, gpu_id=-1,\n",
       "             importance_type='gain', interaction_constraints=None,\n",
       "             learning_rate=0.300000012, max_delta_step=0, max_depth=8,\n",
       "             min_child_weight=1, missing=nan, monotone_constraints=None,\n",
       "             n_estimators=30, n_jobs=0, num_parallel_tree=1,\n",
       "             objective='reg:squarederror', random_state=0, reg_alpha=0,\n",
       "             reg_lambda=1, scale_pos_weight=1, subsample=1, tree_method=None,\n",
       "             validate_parameters=False, verbosity=None)"
      ]
     },
     "execution_count": 38,
     "metadata": {},
     "output_type": "execute_result"
    }
   ],
   "source": [
    "xgb_model.fit(X_train, y_train)"
   ]
  },
  {
   "cell_type": "code",
   "execution_count": 39,
   "metadata": {},
   "outputs": [
    {
     "data": {
      "text/plain": [
       "0.06944484"
      ]
     },
     "execution_count": 39,
     "metadata": {},
     "output_type": "execute_result"
    }
   ],
   "source": [
    "np.sqrt(mean_squared_error(y_train, xgb_model.predict(X_train)))"
   ]
  },
  {
   "cell_type": "code",
   "execution_count": 40,
   "metadata": {},
   "outputs": [
    {
     "data": {
      "text/plain": [
       "array([0.49407595, 0.63619264, 0.52127868, 1.23580155, 2.13633532])"
      ]
     },
     "execution_count": 40,
     "metadata": {},
     "output_type": "execute_result"
    }
   ],
   "source": [
    "scores = cross_val_score(xgb_model, X_train, y_train, scoring=\"neg_mean_squared_error\", cv=5)\n",
    "np.sqrt(-scores)"
   ]
  },
  {
   "cell_type": "markdown",
   "metadata": {},
   "source": [
    "## Submission"
   ]
  },
  {
   "cell_type": "code",
   "execution_count": 42,
   "metadata": {},
   "outputs": [
    {
     "data": {
      "text/plain": [
       "XGBRegressor(base_score=0.5, booster=None, colsample_bylevel=1,\n",
       "             colsample_bynode=1, colsample_bytree=1, gamma=0, gpu_id=-1,\n",
       "             importance_type='gain', interaction_constraints=None,\n",
       "             learning_rate=0.300000012, max_delta_step=0, max_depth=8,\n",
       "             min_child_weight=1, missing=nan, monotone_constraints=None,\n",
       "             n_estimators=30, n_jobs=0, num_parallel_tree=1,\n",
       "             objective='reg:squarederror', random_state=0, reg_alpha=0,\n",
       "             reg_lambda=1, scale_pos_weight=1, subsample=1, tree_method=None,\n",
       "             validate_parameters=False, verbosity=None)"
      ]
     },
     "execution_count": 42,
     "metadata": {},
     "output_type": "execute_result"
    }
   ],
   "source": [
    "xgb_model"
   ]
  },
  {
   "cell_type": "code",
   "execution_count": 51,
   "metadata": {},
   "outputs": [],
   "source": [
    "X_test = scaler.transform(X_test)"
   ]
  },
  {
   "cell_type": "code",
   "execution_count": 53,
   "metadata": {},
   "outputs": [],
   "source": [
    "y_test = xgb_model.predict(X_test).clip(0,20)"
   ]
  },
  {
   "cell_type": "code",
   "execution_count": 54,
   "metadata": {},
   "outputs": [],
   "source": [
    "submission = pd.DataFrame({\n",
    "    \"ID\": test.index, \n",
    "    \"item_cnt_month\": y_test\n",
    "})\n",
    "submission.to_csv('submission.csv', index=False)"
   ]
  },
  {
   "cell_type": "markdown",
   "metadata": {},
   "source": [
    "## My tests"
   ]
  },
  {
   "cell_type": "code",
   "execution_count": 45,
   "metadata": {},
   "outputs": [
    {
     "data": {
      "text/plain": [
       "array([ 1.52645312e+01,  2.01382493e+03,  6.36542180e+00,  3.29514973e+01,\n",
       "        1.06717358e+04,  7.96377087e+02,  2.11944910e+03,  4.15520492e+01,\n",
       "        1.02755546e+01,  1.79744685e+01,  1.70305720e+01,  1.11106017e+05,\n",
       "        3.32519307e+03,  3.13367498e+02,  2.25468709e+00,  2.25468710e+00,\n",
       "        2.25473238e+00,  1.11859832e+05, -9.99978774e-01,  7.18999723e+04,\n",
       "       -5.96015799e-01,  3.30963947e+03, -9.92078377e-01,  2.04234529e+03,\n",
       "       -5.67689849e-01,  1.50113882e+00,  8.20476870e-02,  5.29587753e-01,\n",
       "        6.57982373e-03])"
      ]
     },
     "execution_count": 45,
     "metadata": {},
     "output_type": "execute_result"
    }
   ],
   "source": [
    "scaler.mean_"
   ]
  },
  {
   "cell_type": "code",
   "execution_count": 50,
   "metadata": {
    "scrolled": true
   },
   "outputs": [
    {
     "data": {
      "text/plain": [
       "array([ 1.52645312e+01,  2.01382493e+03,  6.36542180e+00,  3.29514973e+01,\n",
       "        1.06717358e+04,  7.96377087e+02,  2.11944910e+03,  4.15520492e+01,\n",
       "        1.02755546e+01,  1.79744685e+01,  1.70305720e+01,  1.11106017e+05,\n",
       "        3.32519307e+03,  3.13367498e+02,  2.25468709e+00,  2.25468710e+00,\n",
       "        2.25473238e+00,  1.11859832e+05, -9.99978774e-01,  7.18999723e+04,\n",
       "       -5.96015799e-01,  3.30963947e+03, -9.92078377e-01,  2.04234529e+03,\n",
       "       -5.67689849e-01,  1.50113882e+00,  8.20476870e-02,  5.29587753e-01,\n",
       "        6.57982373e-03])"
      ]
     },
     "execution_count": 50,
     "metadata": {},
     "output_type": "execute_result"
    }
   ],
   "source": [
    "# Training set before scaling\n",
    "np.mean(df[df.date_block_num.isin(range(1,34))].drop(columns=[\"item_volume\"]).values, axis=0)"
   ]
  },
  {
   "cell_type": "code",
   "execution_count": 46,
   "metadata": {},
   "outputs": [
    {
     "data": {
      "text/plain": [
       "array([ 3.40000000e+01,  2.01500000e+03,  1.10000000e+01,  3.16428571e+01,\n",
       "        1.10193986e+04,  0.00000000e+00,  0.00000000e+00,  4.63096078e+01,\n",
       "        1.10425490e+01,  2.27845098e+01,  1.64523810e+01,  1.00000000e+00,\n",
       "        1.00000000e+00,  1.00000000e+00,  1.00000000e+00,  1.00000000e+00,\n",
       "        1.00000000e+00,  6.82770000e+04, -1.00000000e+00,  1.16329000e+05,\n",
       "       -1.00000000e+00,  1.49023810e+03, -1.00000000e+00,  2.27376190e+03,\n",
       "       -9.76190476e-01,  2.81167134e-01, -1.33888889e-01,  3.20256769e-01,\n",
       "       -1.04705882e-01])"
      ]
     },
     "execution_count": 46,
     "metadata": {},
     "output_type": "execute_result"
    }
   ],
   "source": [
    "np.mean(X_test.values, axis=0)"
   ]
  },
  {
   "cell_type": "code",
   "execution_count": null,
   "metadata": {},
   "outputs": [],
   "source": []
  }
 ],
 "metadata": {
  "kernelspec": {
   "display_name": "Python 3",
   "language": "python",
   "name": "python3"
  },
  "language_info": {
   "codemirror_mode": {
    "name": "ipython",
    "version": 3
   },
   "file_extension": ".py",
   "mimetype": "text/x-python",
   "name": "python",
   "nbconvert_exporter": "python",
   "pygments_lexer": "ipython3",
   "version": "3.7.3"
  }
 },
 "nbformat": 4,
 "nbformat_minor": 4
}
